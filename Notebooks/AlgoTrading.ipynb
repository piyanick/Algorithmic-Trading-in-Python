{
  "nbformat": 4,
  "nbformat_minor": 0,
  "metadata": {
    "colab": {
      "name": "AlgoTrading.ipynb",
      "version": "0.3.2",
      "provenance": [],
      "collapsed_sections": [
        "P6ksT01G3Aii"
      ],
      "toc_visible": true,
      "include_colab_link": true
    },
    "kernelspec": {
      "name": "python3",
      "display_name": "Python 3"
    },
    "accelerator": "GPU"
  },
  "cells": [
    {
      "cell_type": "markdown",
      "metadata": {
        "id": "view-in-github",
        "colab_type": "text"
      },
      "source": [
        "<a href=\"https://colab.research.google.com/github/dieko95/AlgoTrading/blob/master/AlgoTrading.ipynb\" target=\"_parent\"><img src=\"https://colab.research.google.com/assets/colab-badge.svg\" alt=\"Open In Colab\"/></a>"
      ]
    },
    {
      "cell_type": "markdown",
      "metadata": {
        "id": "BpXsMmTPhssr",
        "colab_type": "text"
      },
      "source": [
        "# AlgoTrading - Machine Learning approach \n",
        "\n",
        "This notebook was elaborated for the final project of the course \"Algorithmic Trading\" taught at Hult International Business School by professor Michael Rolleigh. The goal is to backtest a trading algorithm that recieves the output from a machine learning model as a signal to perform the strategy.\n",
        "\n",
        "This notebook includes the process from data cleaning until the creation of ML models to use as a signal in a Trading Algorithm. The latter is implemented in ```backtest.py ```\n",
        "\n",
        "\n",
        "## Using the Notebook to run Machine Learning models -  Section 4\n",
        "\n",
        "\n",
        "\n",
        "---\n",
        "\n",
        "### Step 1 \n",
        "\n",
        "Copy the notebook to your google drive -> /File/Save a Copy in Drive \n",
        "\n",
        "### Step 2\n",
        "\n",
        "In order to run the ML models is necessary to **previously** run the cells from the sections:\n",
        "\n",
        "* 1.1\n",
        "* 1.2 \n",
        "* 1.3.1 \n",
        "* 1.3.5 \n",
        "\n",
        "### Step 3\n",
        "\n",
        "After running these cells, you may begin to run the Machine Learning code at section 4.0\n",
        "\n",
        "\n",
        "\n",
        "---\n",
        "\n",
        "\n",
        "\n",
        "> ## Authors\n",
        "\n",
        "---\n",
        "\n",
        "\n",
        "\n",
        "The following list integrates the team members that contributed with their expertise in Finance, Trading, Machine Learning and Coding. \n",
        "\n",
        "\n",
        "*   Diego Giménez \n",
        "* Jorge Betancourt\n",
        "* Myungsung Kim \n",
        "* Piya Thavornwong \n",
        "* Xuan Lu \n",
        "* Yoon Hee Bae\n",
        "\n",
        "\n",
        "\n"
      ]
    },
    {
      "cell_type": "markdown",
      "metadata": {
        "id": "MVI-VlpKj4ye",
        "colab_type": "text"
      },
      "source": [
        "## 1.0 Load Libraries and Data\n",
        "\n",
        "https://pypi.org/project/GetOldTweets3/\n",
        "\n",
        "\n",
        "\n",
        "```\n",
        "python Exporter.py --query @RedHat --since 2014-01-01 --until 2019-01-15 --maxtweets 5000000\n",
        "```\n",
        "\n"
      ]
    },
    {
      "cell_type": "markdown",
      "metadata": {
        "id": "WDYMY-XwuBF6",
        "colab_type": "text"
      },
      "source": [
        "### 1.1 Install Libraries"
      ]
    },
    {
      "cell_type": "code",
      "metadata": {
        "id": "R7gvszGpiPfn",
        "colab_type": "code",
        "outputId": "3aad7a2c-e739-40cc-ed93-8af44ef393d9",
        "colab": {
          "base_uri": "https://localhost:8080/",
          "height": 306
        }
      },
      "source": [
        "!pip install langdetect\n",
        "!pip install vaderSentiment\n",
        "!pip install -U -q PyDrive\n",
        "!pip install -q xlrd\n",
        "\n",
        " "
      ],
      "execution_count": 1,
      "outputs": [
        {
          "output_type": "stream",
          "text": [
            "Collecting langdetect\n",
            "\u001b[?25l  Downloading https://files.pythonhosted.org/packages/59/59/4bc44158a767a6d66de18c4136c8aa90491d56cc951c10b74dd1e13213c9/langdetect-1.0.7.zip (998kB)\n",
            "\u001b[K     |████████████████████████████████| 1.0MB 9.3MB/s \n",
            "\u001b[?25hRequirement already satisfied: six in /usr/local/lib/python3.6/dist-packages (from langdetect) (1.12.0)\n",
            "Building wheels for collected packages: langdetect\n",
            "  Building wheel for langdetect (setup.py) ... \u001b[?25l\u001b[?25hdone\n",
            "  Stored in directory: /root/.cache/pip/wheels/ec/0c/a9/1647275e7ef5014e7b83ff30105180e332867d65e7617ddafe\n",
            "Successfully built langdetect\n",
            "Installing collected packages: langdetect\n",
            "Successfully installed langdetect-1.0.7\n",
            "Collecting vaderSentiment\n",
            "\u001b[?25l  Downloading https://files.pythonhosted.org/packages/86/9e/c53e1fc61aac5ee490a6ac5e21b1ac04e55a7c2aba647bb8411c9aadf24e/vaderSentiment-3.2.1-py2.py3-none-any.whl (125kB)\n",
            "\u001b[K     |████████████████████████████████| 133kB 9.6MB/s \n",
            "\u001b[?25hInstalling collected packages: vaderSentiment\n",
            "Successfully installed vaderSentiment-3.2.1\n",
            "\u001b[K     |████████████████████████████████| 993kB 9.9MB/s \n",
            "\u001b[?25h  Building wheel for PyDrive (setup.py) ... \u001b[?25l\u001b[?25hdone\n"
          ],
          "name": "stdout"
        }
      ]
    },
    {
      "cell_type": "markdown",
      "metadata": {
        "id": "aeWOEosBRmIk",
        "colab_type": "text"
      },
      "source": [
        "### 1.2 Load Libraries"
      ]
    },
    {
      "cell_type": "code",
      "metadata": {
        "id": "28upphhFp6Vp",
        "colab_type": "code",
        "colab": {}
      },
      "source": [
        "import pandas as pd\n",
        "from pandas import Series, DataFrame\n",
        "import numpy as np \n",
        "from langdetect import detect\n",
        "import time\n",
        "import seaborn as sns"
      ],
      "execution_count": 0,
      "outputs": []
    },
    {
      "cell_type": "markdown",
      "metadata": {
        "id": "8SnPNwbdwy_i",
        "colab_type": "text"
      },
      "source": [
        "### 1.3 Load Past Data"
      ]
    },
    {
      "cell_type": "markdown",
      "metadata": {
        "id": "5RLUVxZiuF9L",
        "colab_type": "text"
      },
      "source": [
        "#### 1.3.1 Google Validation to read Google Drive Files "
      ]
    },
    {
      "cell_type": "code",
      "metadata": {
        "id": "e9EENuzQBLo2",
        "colab_type": "code",
        "colab": {}
      },
      "source": [
        "\n",
        "from pydrive.auth import GoogleAuth\n",
        "from pydrive.drive import GoogleDrive\n",
        "from google.colab import auth\n",
        "from oauth2client.client import GoogleCredentials\n",
        "\n",
        "auth.authenticate_user()\n",
        "gauth = GoogleAuth()\n",
        "gauth.credentials = GoogleCredentials.get_application_default()\n",
        "drive = GoogleDrive(gauth)\n"
      ],
      "execution_count": 0,
      "outputs": []
    },
    {
      "cell_type": "markdown",
      "metadata": {
        "id": "07p6KZWnoQLx",
        "colab_type": "text"
      },
      "source": [
        "#### 1.3.2 Load Twitter Past WebScraped Data"
      ]
    },
    {
      "cell_type": "code",
      "metadata": {
        "id": "C6Xh5WP3UM9K",
        "colab_type": "code",
        "outputId": "950f4f73-5c1e-4631-f4a8-eec49c2cda37",
        "colab": {
          "base_uri": "https://localhost:8080/",
          "height": 35
        }
      },
      "source": [
        "\n",
        "link = 'https://drive.google.com/open?id=1NSuc3X37Z2r29mxKt92JFs0krF63aNNM'\n",
        "fluff, id = link.split('=')\n",
        "\n",
        "print(id)\n"
      ],
      "execution_count": 0,
      "outputs": [
        {
          "output_type": "stream",
          "text": [
            "1NSuc3X37Z2r29mxKt92JFs0krF63aNNM\n"
          ],
          "name": "stdout"
        }
      ]
    },
    {
      "cell_type": "code",
      "metadata": {
        "id": "kXryZbpSCnm4",
        "colab_type": "code",
        "colab": {}
      },
      "source": [
        "downloaded = drive.CreateFile({'id':id}) \n",
        "downloaded.GetContentFile('Filename.csv')  \n",
        "tweetsDf = pd.read_csv('Filename.csv')"
      ],
      "execution_count": 0,
      "outputs": []
    },
    {
      "cell_type": "code",
      "metadata": {
        "id": "5G-sm6XjB8aQ",
        "colab_type": "code",
        "outputId": "45e24b86-81a5-465f-f774-2127e0bddf4a",
        "colab": {
          "base_uri": "https://localhost:8080/",
          "height": 35
        }
      },
      "source": [
        "tweetsDf.shape"
      ],
      "execution_count": 0,
      "outputs": [
        {
          "output_type": "execute_result",
          "data": {
            "text/plain": [
              "(51603, 10)"
            ]
          },
          "metadata": {
            "tags": []
          },
          "execution_count": 26
        }
      ]
    },
    {
      "cell_type": "markdown",
      "metadata": {
        "id": "XNYw644joXzH",
        "colab_type": "text"
      },
      "source": [
        "#### 1.3.3 Load Fundamental Past Data"
      ]
    },
    {
      "cell_type": "code",
      "metadata": {
        "id": "vdIOMLfcUGMC",
        "colab_type": "code",
        "colab": {}
      },
      "source": [
        "import pandas as pd\n",
        "\n",
        "\n",
        "file_id = '1P-479AOJBUh1gAcTuxhGtsZHr_17nYV5'\n",
        "downloaded = drive.CreateFile({'id': file_id})\n",
        "downloaded.GetContentFile('exported.xlsx')\n",
        "\n",
        "fundData = pd.read_excel('exported.xlsx')\n",
        "\n"
      ],
      "execution_count": 0,
      "outputs": []
    },
    {
      "cell_type": "markdown",
      "metadata": {
        "id": "g0NXPoXqv1Yf",
        "colab_type": "text"
      },
      "source": [
        "#### 1.3.4 Load Cleaned and Aggregated Tweets"
      ]
    },
    {
      "cell_type": "code",
      "metadata": {
        "id": "lTX8b-o7v1hz",
        "colab_type": "code",
        "colab": {}
      },
      "source": [
        "file_id = '1wtJlq-ebnj-5cimnB6Yl_T2FNYy21Ul4'\n",
        "downloaded = drive.CreateFile({'id': file_id})\n",
        "downloaded.GetContentFile('aggDfDay_v0.1.csv')\n",
        "\n",
        "aggTweetsDay = pd.read_csv('aggDfDay_v0.1.csv')"
      ],
      "execution_count": 0,
      "outputs": []
    },
    {
      "cell_type": "markdown",
      "metadata": {
        "id": "w7PQyClr2Emm",
        "colab_type": "text"
      },
      "source": [
        "#### 1.3.5 Load Final Df for ML"
      ]
    },
    {
      "cell_type": "code",
      "metadata": {
        "id": "0B1fIpFU2EIf",
        "colab_type": "code",
        "colab": {}
      },
      "source": [
        "file_id = '1XtSm0enUNyogW-xjWctuZLHmEDHwJbqh'\n",
        "downloaded = drive.CreateFile({'id': file_id})\n",
        "downloaded.GetContentFile('mlFullDf.csv')\n",
        "\n",
        "mlDf = pd.read_csv('mlFullDf.csv')"
      ],
      "execution_count": 0,
      "outputs": []
    },
    {
      "cell_type": "markdown",
      "metadata": {
        "id": "EV76nOC-uj1v",
        "colab_type": "text"
      },
      "source": [
        "## 2.0 Text Cleaning for Freshly Webscraped tweets \n",
        "\n",
        "Don't use this if you downloaded the csv cleaned tweets "
      ]
    },
    {
      "cell_type": "markdown",
      "metadata": {
        "id": "LSmHIhx1Qqvv",
        "colab_type": "text"
      },
      "source": [
        "### 2.1 First Cleaning Iteration"
      ]
    },
    {
      "cell_type": "code",
      "metadata": {
        "id": "XtdgcVUtQtbI",
        "colab_type": "code",
        "outputId": "63250b0e-73fb-461d-e720-380126d86600",
        "colab": {
          "base_uri": "https://localhost:8080/",
          "height": 69
        }
      },
      "source": [
        "# Erasing Short Tweets\n",
        "\n",
        "start_time = time.time()\n",
        "\n",
        "tweetsDf.text = tweetsDf.text.apply(lambda x: len(str(x).split()) < 3 and np.nan or x) #If the tweet is less than 3 characters create a NA place Holder \n",
        "\n",
        "\n",
        "# Erasing Misc Characters \n",
        "\n",
        "tweetsDf.text = tweetsDf.text.replace(r'@\\w*', '', regex = True) # Erases all usernames (word preceding @)\n",
        "tweetsDf.text = tweetsDf.text.replace(r'#\\w*', '', regex = True) # Erases hashtags\n",
        "tweetsDf.text = tweetsDf.text.replace(r'https://.+', '', regex = True) # Erases URLS\n",
        "\n",
        "print(\"Middle of program--- %s seconds ---\" % (time.time() - start_time))\n",
        "\n",
        "tweetsDf.text = tweetsDf.text.replace(r'http://.+', '', regex = True) # Erases URLS\n",
        "tweetsDf.text = tweetsDf.text.replace(r'=>', '', regex = True) # Erases =>\n",
        "tweetsDf.text = tweetsDf.text.replace(r'[$-/:-?{-~\"^_`\\[\\]]', '', regex = True) #Replace weird characters\n",
        "tweetsDf.text = tweetsDf.text.apply(lambda x: len(str(x).split()) < 3 and np.nan or x) #If the tweet is less than 3 characters create a NA place Holder \n",
        "\n",
        "\n",
        "\n",
        "tweetsDf = tweetsDf.dropna(subset=['text'])\n",
        "\n",
        "\n",
        "# Erasing Non English Tweets \n",
        "\n",
        "print(\"Before detect --- %s seconds ---\" % (time.time() - start_time))\n",
        "\n",
        "\n",
        "tweetsDf.text = tweetsDf.text.apply(lambda x: detect(str(x)) != 'en' and np.nan or x) # Creates NA place holder for text that is not in english \n",
        "\n",
        "tweetsDf = tweetsDf.dropna(subset=['text'])\n",
        "\n",
        "\n",
        "\n",
        "print(\"--- %s seconds ---\" % (time.time() - start_time))\n"
      ],
      "execution_count": 0,
      "outputs": [
        {
          "output_type": "stream",
          "text": [
            "Middle of program--- 0.23569488525390625 seconds ---\n",
            "Before detect --- 0.46584033966064453 seconds ---\n",
            "--- 273.9805519580841 seconds ---\n"
          ],
          "name": "stdout"
        }
      ]
    },
    {
      "cell_type": "code",
      "metadata": {
        "id": "IwxUzzdEHSr0",
        "colab_type": "code",
        "outputId": "2b33bd5e-56c7-453b-c5ae-0a2cd896b0d9",
        "colab": {
          "base_uri": "https://localhost:8080/",
          "height": 225
        }
      },
      "source": [
        "# Tweets that were deleted - 110 for RHT \n",
        "print(tweetsDf.describe(), '\\n','\\n'\n",
        "     'Tweets Without Info: ', tweetsDf.shape[0] - tweetsDf.text.dropna().shape[0])\n",
        "\n",
        "tweetsDf = tweetsDf.dropna(subset=['text'])\n",
        "tweetsDf.shape"
      ],
      "execution_count": 0,
      "outputs": [
        {
          "output_type": "stream",
          "text": [
            "           retweets     favorites\n",
            "count  44804.000000  44804.000000\n",
            "mean       3.159405      4.744108\n",
            "std       19.994508     21.891472\n",
            "min        0.000000      0.000000\n",
            "25%        0.000000      0.000000\n",
            "50%        0.000000      1.000000\n",
            "75%        3.000000      5.000000\n",
            "max     2877.000000   2330.000000 \n",
            " \n",
            "Tweets Without Info:  0\n"
          ],
          "name": "stdout"
        },
        {
          "output_type": "execute_result",
          "data": {
            "text/plain": [
              "(44804, 10)"
            ]
          },
          "metadata": {
            "tags": []
          },
          "execution_count": 28
        }
      ]
    },
    {
      "cell_type": "markdown",
      "metadata": {
        "id": "iK1YLkGUu9yO",
        "colab_type": "text"
      },
      "source": [
        "### 2.2 Creation of sentiments\n",
        "\n",
        "![alt text](https://cdn-images-1.medium.com/max/800/1*G8yV2iaqqfaGfmRPRem2Fw.png)"
      ]
    },
    {
      "cell_type": "code",
      "metadata": {
        "id": "0jKOEhc2f8S0",
        "colab_type": "code",
        "outputId": "c87c956c-54ca-487f-aee6-aa0aa0519e02",
        "colab": {
          "base_uri": "https://localhost:8080/",
          "height": 35
        }
      },
      "source": [
        "start_time = time.time()\n",
        "\n",
        "from vaderSentiment.vaderSentiment import SentimentIntensityAnalyzer\n",
        "\n",
        "\n",
        "analyzer = SentimentIntensityAnalyzer()\n",
        "\n",
        "tweet = []\n",
        "number_favourites = []\n",
        "retweets = []\n",
        "vs_compound = []\n",
        "vs_pos = []\n",
        "vs_neu = []\n",
        "vs_neg = []\n",
        "timeStamp = []\n",
        "\n",
        "\n",
        "for i in range(tweetsDf.shape[0]):\n",
        "    tweet.append(tweetsDf.iloc[i,4])\n",
        "    number_favourites.append(tweetsDf.iloc[i,3])\n",
        "    retweets.append(tweetsDf.iloc[i,2])\n",
        "    timeStamp.append(tweetsDf.iloc[i,1])\n",
        "    vs_compound.append(analyzer.polarity_scores(tweetsDf.iloc[i,4])['compound'])\n",
        "    vs_pos.append(analyzer.polarity_scores(tweetsDf.iloc[i,4])['pos'])\n",
        "    vs_neu.append(analyzer.polarity_scores(tweetsDf.iloc[i,4])['neu'])\n",
        "    vs_neg.append(analyzer.polarity_scores(tweetsDf.iloc[i,4])['neg'])\n",
        "    \n",
        "    \n",
        "print(\"--- %s seconds ---\" % (time.time() - start_time))"
      ],
      "execution_count": 0,
      "outputs": [
        {
          "output_type": "stream",
          "text": [
            "--- 48.82457375526428 seconds ---\n"
          ],
          "name": "stdout"
        }
      ]
    },
    {
      "cell_type": "markdown",
      "metadata": {
        "id": "bdEqqgaSvB04",
        "colab_type": "text"
      },
      "source": [
        "#### 2.1.1 Aggregation by count of sentiments  "
      ]
    },
    {
      "cell_type": "code",
      "metadata": {
        "id": "Tc2yD4cXfuvY",
        "colab_type": "code",
        "outputId": "1e4b72b1-4bdc-44fe-b1c0-ab8c31aa6059",
        "colab": {
          "base_uri": "https://localhost:8080/",
          "height": 34
        }
      },
      "source": [
        "\n",
        "twitterDf = DataFrame({'Tweet': tweet,\n",
        "                        'Favourites': number_favourites,\n",
        "                        'retweets' : retweets,\n",
        "                        'timeStamp' : timeStamp,\n",
        "                        'Compound': vs_compound,\n",
        "                        'Positive': vs_pos,\n",
        "                        'Neutral': vs_neu,\n",
        "                        'Negative': vs_neg})\n",
        "twitterDf = twitterDf[['timeStamp','Tweet', 'Favourites', 'retweets','Compound',\n",
        "                         'Positive', 'Neutral', 'Negative']]\n",
        "\n",
        "twitterDf.shape"
      ],
      "execution_count": 0,
      "outputs": [
        {
          "output_type": "execute_result",
          "data": {
            "text/plain": [
              "(44803, 8)"
            ]
          },
          "metadata": {
            "tags": []
          },
          "execution_count": 34
        }
      ]
    },
    {
      "cell_type": "markdown",
      "metadata": {
        "id": "P7hazF-Xom6d",
        "colab_type": "text"
      },
      "source": [
        "### 2.3 Download Cleaned Tweets"
      ]
    },
    {
      "cell_type": "code",
      "metadata": {
        "id": "xRssJlv_hbK0",
        "colab_type": "code",
        "colab": {}
      },
      "source": [
        "# from google.colab import files\n",
        "\n",
        "# twitterDf.to_csv('cleanedTwitter_v0.1.csv')\n",
        "# files.download('cleanedTwitter_v0.1.csv')"
      ],
      "execution_count": 0,
      "outputs": []
    },
    {
      "cell_type": "markdown",
      "metadata": {
        "id": "4W1ubXO1S8UA",
        "colab_type": "text"
      },
      "source": [
        "### 2.4 Aggregating By Day - Tweets"
      ]
    },
    {
      "cell_type": "code",
      "metadata": {
        "id": "Gjw8Nh1ioYOc",
        "colab_type": "code",
        "outputId": "edd1348c-520d-45ab-ab99-f8072163c029",
        "colab": {
          "base_uri": "https://localhost:8080/",
          "height": 2000
        }
      },
      "source": [
        "aggDf = twitterDf.drop(columns = 'Tweet')\n",
        "aggDf.timeStamp = pd.to_datetime(aggDf.timeStamp) \n",
        "aggDf.set_index(aggDf[\"timeStamp\"],inplace=True)\n",
        "aggDfDay = aggDf.resample('D').sum()\n",
        "\n",
        "# aggDfDay.Compound.value_counts()\n",
        "\n",
        "aggDfDay"
      ],
      "execution_count": 0,
      "outputs": [
        {
          "output_type": "execute_result",
          "data": {
            "text/html": [
              "<div>\n",
              "<style scoped>\n",
              "    .dataframe tbody tr th:only-of-type {\n",
              "        vertical-align: middle;\n",
              "    }\n",
              "\n",
              "    .dataframe tbody tr th {\n",
              "        vertical-align: top;\n",
              "    }\n",
              "\n",
              "    .dataframe thead th {\n",
              "        text-align: right;\n",
              "    }\n",
              "</style>\n",
              "<table border=\"1\" class=\"dataframe\">\n",
              "  <thead>\n",
              "    <tr style=\"text-align: right;\">\n",
              "      <th></th>\n",
              "      <th>Favourites</th>\n",
              "      <th>retweets</th>\n",
              "      <th>Compound</th>\n",
              "      <th>Positive</th>\n",
              "      <th>Neutral</th>\n",
              "      <th>Negative</th>\n",
              "    </tr>\n",
              "    <tr>\n",
              "      <th>timeStamp</th>\n",
              "      <th></th>\n",
              "      <th></th>\n",
              "      <th></th>\n",
              "      <th></th>\n",
              "      <th></th>\n",
              "      <th></th>\n",
              "    </tr>\n",
              "  </thead>\n",
              "  <tbody>\n",
              "    <tr>\n",
              "      <th>2013-12-31</th>\n",
              "      <td>1</td>\n",
              "      <td>0</td>\n",
              "      <td>0.5106</td>\n",
              "      <td>0.191</td>\n",
              "      <td>0.809</td>\n",
              "      <td>0.000</td>\n",
              "    </tr>\n",
              "    <tr>\n",
              "      <th>2014-01-01</th>\n",
              "      <td>0</td>\n",
              "      <td>0</td>\n",
              "      <td>0.0000</td>\n",
              "      <td>0.000</td>\n",
              "      <td>0.000</td>\n",
              "      <td>0.000</td>\n",
              "    </tr>\n",
              "    <tr>\n",
              "      <th>2014-01-02</th>\n",
              "      <td>21</td>\n",
              "      <td>38</td>\n",
              "      <td>1.1823</td>\n",
              "      <td>1.203</td>\n",
              "      <td>3.797</td>\n",
              "      <td>0.000</td>\n",
              "    </tr>\n",
              "    <tr>\n",
              "      <th>2014-01-03</th>\n",
              "      <td>16</td>\n",
              "      <td>45</td>\n",
              "      <td>0.9725</td>\n",
              "      <td>0.624</td>\n",
              "      <td>5.233</td>\n",
              "      <td>0.143</td>\n",
              "    </tr>\n",
              "    <tr>\n",
              "      <th>2014-01-04</th>\n",
              "      <td>15</td>\n",
              "      <td>48</td>\n",
              "      <td>0.8392</td>\n",
              "      <td>0.628</td>\n",
              "      <td>3.372</td>\n",
              "      <td>0.000</td>\n",
              "    </tr>\n",
              "    <tr>\n",
              "      <th>2014-01-05</th>\n",
              "      <td>1</td>\n",
              "      <td>4</td>\n",
              "      <td>0.2732</td>\n",
              "      <td>0.231</td>\n",
              "      <td>2.769</td>\n",
              "      <td>0.000</td>\n",
              "    </tr>\n",
              "    <tr>\n",
              "      <th>2014-01-06</th>\n",
              "      <td>3</td>\n",
              "      <td>9</td>\n",
              "      <td>1.4242</td>\n",
              "      <td>0.922</td>\n",
              "      <td>3.016</td>\n",
              "      <td>0.062</td>\n",
              "    </tr>\n",
              "    <tr>\n",
              "      <th>2014-01-07</th>\n",
              "      <td>86</td>\n",
              "      <td>375</td>\n",
              "      <td>6.9726</td>\n",
              "      <td>4.778</td>\n",
              "      <td>20.690</td>\n",
              "      <td>0.532</td>\n",
              "    </tr>\n",
              "    <tr>\n",
              "      <th>2014-01-08</th>\n",
              "      <td>11</td>\n",
              "      <td>43</td>\n",
              "      <td>3.4217</td>\n",
              "      <td>2.339</td>\n",
              "      <td>10.661</td>\n",
              "      <td>0.000</td>\n",
              "    </tr>\n",
              "    <tr>\n",
              "      <th>2014-01-09</th>\n",
              "      <td>6</td>\n",
              "      <td>4</td>\n",
              "      <td>2.2195</td>\n",
              "      <td>1.373</td>\n",
              "      <td>4.627</td>\n",
              "      <td>0.000</td>\n",
              "    </tr>\n",
              "    <tr>\n",
              "      <th>2014-01-10</th>\n",
              "      <td>10</td>\n",
              "      <td>11</td>\n",
              "      <td>2.2738</td>\n",
              "      <td>1.220</td>\n",
              "      <td>5.780</td>\n",
              "      <td>0.000</td>\n",
              "    </tr>\n",
              "    <tr>\n",
              "      <th>2014-01-11</th>\n",
              "      <td>2</td>\n",
              "      <td>4</td>\n",
              "      <td>0.7650</td>\n",
              "      <td>0.398</td>\n",
              "      <td>0.602</td>\n",
              "      <td>0.000</td>\n",
              "    </tr>\n",
              "    <tr>\n",
              "      <th>2014-01-12</th>\n",
              "      <td>0</td>\n",
              "      <td>0</td>\n",
              "      <td>0.0000</td>\n",
              "      <td>0.000</td>\n",
              "      <td>1.000</td>\n",
              "      <td>0.000</td>\n",
              "    </tr>\n",
              "    <tr>\n",
              "      <th>2014-01-13</th>\n",
              "      <td>5</td>\n",
              "      <td>18</td>\n",
              "      <td>1.5425</td>\n",
              "      <td>1.165</td>\n",
              "      <td>6.644</td>\n",
              "      <td>0.191</td>\n",
              "    </tr>\n",
              "    <tr>\n",
              "      <th>2014-01-14</th>\n",
              "      <td>11</td>\n",
              "      <td>23</td>\n",
              "      <td>-0.7408</td>\n",
              "      <td>0.580</td>\n",
              "      <td>11.423</td>\n",
              "      <td>0.997</td>\n",
              "    </tr>\n",
              "    <tr>\n",
              "      <th>2014-01-15</th>\n",
              "      <td>18</td>\n",
              "      <td>36</td>\n",
              "      <td>1.6970</td>\n",
              "      <td>1.442</td>\n",
              "      <td>10.067</td>\n",
              "      <td>0.491</td>\n",
              "    </tr>\n",
              "    <tr>\n",
              "      <th>2014-01-16</th>\n",
              "      <td>7</td>\n",
              "      <td>27</td>\n",
              "      <td>1.7666</td>\n",
              "      <td>1.070</td>\n",
              "      <td>8.930</td>\n",
              "      <td>0.000</td>\n",
              "    </tr>\n",
              "    <tr>\n",
              "      <th>2014-01-17</th>\n",
              "      <td>22</td>\n",
              "      <td>29</td>\n",
              "      <td>0.7523</td>\n",
              "      <td>0.486</td>\n",
              "      <td>7.283</td>\n",
              "      <td>0.231</td>\n",
              "    </tr>\n",
              "    <tr>\n",
              "      <th>2014-01-18</th>\n",
              "      <td>16</td>\n",
              "      <td>27</td>\n",
              "      <td>-0.4434</td>\n",
              "      <td>0.253</td>\n",
              "      <td>7.096</td>\n",
              "      <td>0.651</td>\n",
              "    </tr>\n",
              "    <tr>\n",
              "      <th>2014-01-19</th>\n",
              "      <td>17</td>\n",
              "      <td>40</td>\n",
              "      <td>1.4640</td>\n",
              "      <td>1.199</td>\n",
              "      <td>6.691</td>\n",
              "      <td>0.110</td>\n",
              "    </tr>\n",
              "    <tr>\n",
              "      <th>2014-01-20</th>\n",
              "      <td>19</td>\n",
              "      <td>32</td>\n",
              "      <td>0.5682</td>\n",
              "      <td>0.355</td>\n",
              "      <td>6.645</td>\n",
              "      <td>0.000</td>\n",
              "    </tr>\n",
              "    <tr>\n",
              "      <th>2014-01-21</th>\n",
              "      <td>12</td>\n",
              "      <td>20</td>\n",
              "      <td>0.1843</td>\n",
              "      <td>0.625</td>\n",
              "      <td>9.113</td>\n",
              "      <td>0.262</td>\n",
              "    </tr>\n",
              "    <tr>\n",
              "      <th>2014-01-22</th>\n",
              "      <td>25</td>\n",
              "      <td>78</td>\n",
              "      <td>3.8815</td>\n",
              "      <td>2.958</td>\n",
              "      <td>25.388</td>\n",
              "      <td>0.654</td>\n",
              "    </tr>\n",
              "    <tr>\n",
              "      <th>2014-01-23</th>\n",
              "      <td>20</td>\n",
              "      <td>17</td>\n",
              "      <td>-0.4408</td>\n",
              "      <td>0.379</td>\n",
              "      <td>7.144</td>\n",
              "      <td>0.477</td>\n",
              "    </tr>\n",
              "    <tr>\n",
              "      <th>2014-01-24</th>\n",
              "      <td>18</td>\n",
              "      <td>18</td>\n",
              "      <td>0.0459</td>\n",
              "      <td>0.394</td>\n",
              "      <td>7.909</td>\n",
              "      <td>0.697</td>\n",
              "    </tr>\n",
              "    <tr>\n",
              "      <th>2014-01-25</th>\n",
              "      <td>16</td>\n",
              "      <td>20</td>\n",
              "      <td>0.1779</td>\n",
              "      <td>0.195</td>\n",
              "      <td>3.805</td>\n",
              "      <td>0.000</td>\n",
              "    </tr>\n",
              "    <tr>\n",
              "      <th>2014-01-26</th>\n",
              "      <td>4</td>\n",
              "      <td>11</td>\n",
              "      <td>0.0000</td>\n",
              "      <td>0.000</td>\n",
              "      <td>2.000</td>\n",
              "      <td>0.000</td>\n",
              "    </tr>\n",
              "    <tr>\n",
              "      <th>2014-01-27</th>\n",
              "      <td>8</td>\n",
              "      <td>34</td>\n",
              "      <td>0.9970</td>\n",
              "      <td>0.685</td>\n",
              "      <td>8.315</td>\n",
              "      <td>0.000</td>\n",
              "    </tr>\n",
              "    <tr>\n",
              "      <th>2014-01-28</th>\n",
              "      <td>15</td>\n",
              "      <td>34</td>\n",
              "      <td>0.8514</td>\n",
              "      <td>0.528</td>\n",
              "      <td>10.472</td>\n",
              "      <td>0.000</td>\n",
              "    </tr>\n",
              "    <tr>\n",
              "      <th>2014-01-29</th>\n",
              "      <td>32</td>\n",
              "      <td>58</td>\n",
              "      <td>1.6259</td>\n",
              "      <td>1.298</td>\n",
              "      <td>13.366</td>\n",
              "      <td>0.336</td>\n",
              "    </tr>\n",
              "    <tr>\n",
              "      <th>...</th>\n",
              "      <td>...</td>\n",
              "      <td>...</td>\n",
              "      <td>...</td>\n",
              "      <td>...</td>\n",
              "      <td>...</td>\n",
              "      <td>...</td>\n",
              "    </tr>\n",
              "    <tr>\n",
              "      <th>2018-12-16</th>\n",
              "      <td>94</td>\n",
              "      <td>50</td>\n",
              "      <td>12.1406</td>\n",
              "      <td>4.371</td>\n",
              "      <td>22.988</td>\n",
              "      <td>0.642</td>\n",
              "    </tr>\n",
              "    <tr>\n",
              "      <th>2018-12-17</th>\n",
              "      <td>247</td>\n",
              "      <td>156</td>\n",
              "      <td>17.6341</td>\n",
              "      <td>8.247</td>\n",
              "      <td>42.301</td>\n",
              "      <td>0.451</td>\n",
              "    </tr>\n",
              "    <tr>\n",
              "      <th>2018-12-18</th>\n",
              "      <td>479</td>\n",
              "      <td>272</td>\n",
              "      <td>23.6633</td>\n",
              "      <td>13.316</td>\n",
              "      <td>53.349</td>\n",
              "      <td>1.336</td>\n",
              "    </tr>\n",
              "    <tr>\n",
              "      <th>2018-12-19</th>\n",
              "      <td>267</td>\n",
              "      <td>134</td>\n",
              "      <td>22.1467</td>\n",
              "      <td>10.485</td>\n",
              "      <td>50.422</td>\n",
              "      <td>1.093</td>\n",
              "    </tr>\n",
              "    <tr>\n",
              "      <th>2018-12-20</th>\n",
              "      <td>380</td>\n",
              "      <td>186</td>\n",
              "      <td>23.6990</td>\n",
              "      <td>12.060</td>\n",
              "      <td>50.806</td>\n",
              "      <td>1.135</td>\n",
              "    </tr>\n",
              "    <tr>\n",
              "      <th>2018-12-21</th>\n",
              "      <td>239</td>\n",
              "      <td>87</td>\n",
              "      <td>26.8994</td>\n",
              "      <td>13.503</td>\n",
              "      <td>47.933</td>\n",
              "      <td>1.562</td>\n",
              "    </tr>\n",
              "    <tr>\n",
              "      <th>2018-12-22</th>\n",
              "      <td>131</td>\n",
              "      <td>67</td>\n",
              "      <td>2.9644</td>\n",
              "      <td>2.443</td>\n",
              "      <td>17.337</td>\n",
              "      <td>1.220</td>\n",
              "    </tr>\n",
              "    <tr>\n",
              "      <th>2018-12-23</th>\n",
              "      <td>230</td>\n",
              "      <td>106</td>\n",
              "      <td>7.7982</td>\n",
              "      <td>5.378</td>\n",
              "      <td>24.169</td>\n",
              "      <td>1.451</td>\n",
              "    </tr>\n",
              "    <tr>\n",
              "      <th>2018-12-24</th>\n",
              "      <td>161</td>\n",
              "      <td>61</td>\n",
              "      <td>7.3538</td>\n",
              "      <td>5.392</td>\n",
              "      <td>25.823</td>\n",
              "      <td>1.786</td>\n",
              "    </tr>\n",
              "    <tr>\n",
              "      <th>2018-12-25</th>\n",
              "      <td>79</td>\n",
              "      <td>30</td>\n",
              "      <td>5.0930</td>\n",
              "      <td>2.719</td>\n",
              "      <td>12.858</td>\n",
              "      <td>0.423</td>\n",
              "    </tr>\n",
              "    <tr>\n",
              "      <th>2018-12-26</th>\n",
              "      <td>202</td>\n",
              "      <td>123</td>\n",
              "      <td>8.1093</td>\n",
              "      <td>3.689</td>\n",
              "      <td>22.706</td>\n",
              "      <td>0.604</td>\n",
              "    </tr>\n",
              "    <tr>\n",
              "      <th>2018-12-27</th>\n",
              "      <td>121</td>\n",
              "      <td>60</td>\n",
              "      <td>13.3624</td>\n",
              "      <td>6.835</td>\n",
              "      <td>31.952</td>\n",
              "      <td>1.213</td>\n",
              "    </tr>\n",
              "    <tr>\n",
              "      <th>2018-12-28</th>\n",
              "      <td>157</td>\n",
              "      <td>91</td>\n",
              "      <td>9.5495</td>\n",
              "      <td>4.044</td>\n",
              "      <td>24.904</td>\n",
              "      <td>0.053</td>\n",
              "    </tr>\n",
              "    <tr>\n",
              "      <th>2018-12-29</th>\n",
              "      <td>86</td>\n",
              "      <td>38</td>\n",
              "      <td>8.1545</td>\n",
              "      <td>4.446</td>\n",
              "      <td>19.248</td>\n",
              "      <td>1.307</td>\n",
              "    </tr>\n",
              "    <tr>\n",
              "      <th>2018-12-30</th>\n",
              "      <td>177</td>\n",
              "      <td>58</td>\n",
              "      <td>10.7235</td>\n",
              "      <td>5.058</td>\n",
              "      <td>20.366</td>\n",
              "      <td>0.576</td>\n",
              "    </tr>\n",
              "    <tr>\n",
              "      <th>2018-12-31</th>\n",
              "      <td>246</td>\n",
              "      <td>82</td>\n",
              "      <td>9.0669</td>\n",
              "      <td>4.178</td>\n",
              "      <td>14.822</td>\n",
              "      <td>0.000</td>\n",
              "    </tr>\n",
              "    <tr>\n",
              "      <th>2019-01-01</th>\n",
              "      <td>56</td>\n",
              "      <td>30</td>\n",
              "      <td>4.4707</td>\n",
              "      <td>2.746</td>\n",
              "      <td>15.965</td>\n",
              "      <td>0.289</td>\n",
              "    </tr>\n",
              "    <tr>\n",
              "      <th>2019-01-02</th>\n",
              "      <td>213</td>\n",
              "      <td>95</td>\n",
              "      <td>19.3054</td>\n",
              "      <td>8.081</td>\n",
              "      <td>28.729</td>\n",
              "      <td>0.192</td>\n",
              "    </tr>\n",
              "    <tr>\n",
              "      <th>2019-01-03</th>\n",
              "      <td>207</td>\n",
              "      <td>115</td>\n",
              "      <td>17.9113</td>\n",
              "      <td>9.144</td>\n",
              "      <td>36.065</td>\n",
              "      <td>0.790</td>\n",
              "    </tr>\n",
              "    <tr>\n",
              "      <th>2019-01-04</th>\n",
              "      <td>137</td>\n",
              "      <td>90</td>\n",
              "      <td>10.9306</td>\n",
              "      <td>6.238</td>\n",
              "      <td>33.633</td>\n",
              "      <td>1.130</td>\n",
              "    </tr>\n",
              "    <tr>\n",
              "      <th>2019-01-05</th>\n",
              "      <td>184</td>\n",
              "      <td>95</td>\n",
              "      <td>7.2335</td>\n",
              "      <td>3.521</td>\n",
              "      <td>13.119</td>\n",
              "      <td>0.360</td>\n",
              "    </tr>\n",
              "    <tr>\n",
              "      <th>2019-01-06</th>\n",
              "      <td>105</td>\n",
              "      <td>61</td>\n",
              "      <td>2.9266</td>\n",
              "      <td>2.280</td>\n",
              "      <td>11.159</td>\n",
              "      <td>0.561</td>\n",
              "    </tr>\n",
              "    <tr>\n",
              "      <th>2019-01-07</th>\n",
              "      <td>169</td>\n",
              "      <td>57</td>\n",
              "      <td>16.7543</td>\n",
              "      <td>8.107</td>\n",
              "      <td>34.496</td>\n",
              "      <td>0.397</td>\n",
              "    </tr>\n",
              "    <tr>\n",
              "      <th>2019-01-08</th>\n",
              "      <td>329</td>\n",
              "      <td>135</td>\n",
              "      <td>23.0392</td>\n",
              "      <td>10.637</td>\n",
              "      <td>47.389</td>\n",
              "      <td>0.974</td>\n",
              "    </tr>\n",
              "    <tr>\n",
              "      <th>2019-01-09</th>\n",
              "      <td>218</td>\n",
              "      <td>118</td>\n",
              "      <td>20.7595</td>\n",
              "      <td>9.902</td>\n",
              "      <td>49.686</td>\n",
              "      <td>1.412</td>\n",
              "    </tr>\n",
              "    <tr>\n",
              "      <th>2019-01-10</th>\n",
              "      <td>330</td>\n",
              "      <td>128</td>\n",
              "      <td>25.3206</td>\n",
              "      <td>12.747</td>\n",
              "      <td>70.123</td>\n",
              "      <td>2.131</td>\n",
              "    </tr>\n",
              "    <tr>\n",
              "      <th>2019-01-11</th>\n",
              "      <td>541</td>\n",
              "      <td>112</td>\n",
              "      <td>33.4915</td>\n",
              "      <td>18.343</td>\n",
              "      <td>53.682</td>\n",
              "      <td>0.973</td>\n",
              "    </tr>\n",
              "    <tr>\n",
              "      <th>2019-01-12</th>\n",
              "      <td>116</td>\n",
              "      <td>63</td>\n",
              "      <td>10.1557</td>\n",
              "      <td>7.588</td>\n",
              "      <td>17.961</td>\n",
              "      <td>0.452</td>\n",
              "    </tr>\n",
              "    <tr>\n",
              "      <th>2019-01-13</th>\n",
              "      <td>182</td>\n",
              "      <td>75</td>\n",
              "      <td>9.1907</td>\n",
              "      <td>4.500</td>\n",
              "      <td>21.400</td>\n",
              "      <td>1.101</td>\n",
              "    </tr>\n",
              "    <tr>\n",
              "      <th>2019-01-14</th>\n",
              "      <td>154</td>\n",
              "      <td>89</td>\n",
              "      <td>10.8001</td>\n",
              "      <td>5.615</td>\n",
              "      <td>34.459</td>\n",
              "      <td>0.926</td>\n",
              "    </tr>\n",
              "  </tbody>\n",
              "</table>\n",
              "<p>1841 rows × 6 columns</p>\n",
              "</div>"
            ],
            "text/plain": [
              "            Favourites  retweets  Compound  Positive  Neutral  Negative\n",
              "timeStamp                                                              \n",
              "2013-12-31           1         0    0.5106     0.191    0.809     0.000\n",
              "2014-01-01           0         0    0.0000     0.000    0.000     0.000\n",
              "2014-01-02          21        38    1.1823     1.203    3.797     0.000\n",
              "2014-01-03          16        45    0.9725     0.624    5.233     0.143\n",
              "2014-01-04          15        48    0.8392     0.628    3.372     0.000\n",
              "2014-01-05           1         4    0.2732     0.231    2.769     0.000\n",
              "2014-01-06           3         9    1.4242     0.922    3.016     0.062\n",
              "2014-01-07          86       375    6.9726     4.778   20.690     0.532\n",
              "2014-01-08          11        43    3.4217     2.339   10.661     0.000\n",
              "2014-01-09           6         4    2.2195     1.373    4.627     0.000\n",
              "2014-01-10          10        11    2.2738     1.220    5.780     0.000\n",
              "2014-01-11           2         4    0.7650     0.398    0.602     0.000\n",
              "2014-01-12           0         0    0.0000     0.000    1.000     0.000\n",
              "2014-01-13           5        18    1.5425     1.165    6.644     0.191\n",
              "2014-01-14          11        23   -0.7408     0.580   11.423     0.997\n",
              "2014-01-15          18        36    1.6970     1.442   10.067     0.491\n",
              "2014-01-16           7        27    1.7666     1.070    8.930     0.000\n",
              "2014-01-17          22        29    0.7523     0.486    7.283     0.231\n",
              "2014-01-18          16        27   -0.4434     0.253    7.096     0.651\n",
              "2014-01-19          17        40    1.4640     1.199    6.691     0.110\n",
              "2014-01-20          19        32    0.5682     0.355    6.645     0.000\n",
              "2014-01-21          12        20    0.1843     0.625    9.113     0.262\n",
              "2014-01-22          25        78    3.8815     2.958   25.388     0.654\n",
              "2014-01-23          20        17   -0.4408     0.379    7.144     0.477\n",
              "2014-01-24          18        18    0.0459     0.394    7.909     0.697\n",
              "2014-01-25          16        20    0.1779     0.195    3.805     0.000\n",
              "2014-01-26           4        11    0.0000     0.000    2.000     0.000\n",
              "2014-01-27           8        34    0.9970     0.685    8.315     0.000\n",
              "2014-01-28          15        34    0.8514     0.528   10.472     0.000\n",
              "2014-01-29          32        58    1.6259     1.298   13.366     0.336\n",
              "...                ...       ...       ...       ...      ...       ...\n",
              "2018-12-16          94        50   12.1406     4.371   22.988     0.642\n",
              "2018-12-17         247       156   17.6341     8.247   42.301     0.451\n",
              "2018-12-18         479       272   23.6633    13.316   53.349     1.336\n",
              "2018-12-19         267       134   22.1467    10.485   50.422     1.093\n",
              "2018-12-20         380       186   23.6990    12.060   50.806     1.135\n",
              "2018-12-21         239        87   26.8994    13.503   47.933     1.562\n",
              "2018-12-22         131        67    2.9644     2.443   17.337     1.220\n",
              "2018-12-23         230       106    7.7982     5.378   24.169     1.451\n",
              "2018-12-24         161        61    7.3538     5.392   25.823     1.786\n",
              "2018-12-25          79        30    5.0930     2.719   12.858     0.423\n",
              "2018-12-26         202       123    8.1093     3.689   22.706     0.604\n",
              "2018-12-27         121        60   13.3624     6.835   31.952     1.213\n",
              "2018-12-28         157        91    9.5495     4.044   24.904     0.053\n",
              "2018-12-29          86        38    8.1545     4.446   19.248     1.307\n",
              "2018-12-30         177        58   10.7235     5.058   20.366     0.576\n",
              "2018-12-31         246        82    9.0669     4.178   14.822     0.000\n",
              "2019-01-01          56        30    4.4707     2.746   15.965     0.289\n",
              "2019-01-02         213        95   19.3054     8.081   28.729     0.192\n",
              "2019-01-03         207       115   17.9113     9.144   36.065     0.790\n",
              "2019-01-04         137        90   10.9306     6.238   33.633     1.130\n",
              "2019-01-05         184        95    7.2335     3.521   13.119     0.360\n",
              "2019-01-06         105        61    2.9266     2.280   11.159     0.561\n",
              "2019-01-07         169        57   16.7543     8.107   34.496     0.397\n",
              "2019-01-08         329       135   23.0392    10.637   47.389     0.974\n",
              "2019-01-09         218       118   20.7595     9.902   49.686     1.412\n",
              "2019-01-10         330       128   25.3206    12.747   70.123     2.131\n",
              "2019-01-11         541       112   33.4915    18.343   53.682     0.973\n",
              "2019-01-12         116        63   10.1557     7.588   17.961     0.452\n",
              "2019-01-13         182        75    9.1907     4.500   21.400     1.101\n",
              "2019-01-14         154        89   10.8001     5.615   34.459     0.926\n",
              "\n",
              "[1841 rows x 6 columns]"
            ]
          },
          "metadata": {
            "tags": []
          },
          "execution_count": 37
        }
      ]
    },
    {
      "cell_type": "markdown",
      "metadata": {
        "id": "zPd9Lt4fUuSE",
        "colab_type": "text"
      },
      "source": [
        "### 2.5 Download Data"
      ]
    },
    {
      "cell_type": "code",
      "metadata": {
        "id": "tWzs6ySdhMFp",
        "colab_type": "code",
        "colab": {}
      },
      "source": [
        "# from google.colab import files\n",
        "\n",
        "# aggDfDay.to_csv('aggDfDay_v0.1.csv')\n",
        "# files.download('aggDfDay_v0.1.csv')"
      ],
      "execution_count": 0,
      "outputs": []
    },
    {
      "cell_type": "markdown",
      "metadata": {
        "id": "1cLrA3eZR1vs",
        "colab_type": "text"
      },
      "source": [
        "### 2.6 Index for tweets loaded from Local System\n",
        "\n",
        "This tweets were downloaded in section 1.3.4. The index is assigned again when the DF is created from a csv.  \n",
        "\n"
      ]
    },
    {
      "cell_type": "code",
      "metadata": {
        "id": "OEpSkPSqTNjR",
        "colab_type": "code",
        "outputId": "a23d1947-4406-47d5-a4fd-6a7a11102822",
        "colab": {
          "base_uri": "https://localhost:8080/",
          "height": 232
        }
      },
      "source": [
        " \n",
        "print(aggTweetsDay.shape,aggFundDfDay.shape)\n",
        "\n",
        "aggTweetsDay = aggTweetsDay.iloc[1:1826,:]\n",
        "\n",
        "print(aggTweetsDay.shape,aggFundDfDay.shape)"
      ],
      "execution_count": 0,
      "outputs": [
        {
          "output_type": "error",
          "ename": "NameError",
          "evalue": "ignored",
          "traceback": [
            "\u001b[0;31m---------------------------------------------------------------------------\u001b[0m",
            "\u001b[0;31mNameError\u001b[0m                                 Traceback (most recent call last)",
            "\u001b[0;32m<ipython-input-19-375cb2583edf>\u001b[0m in \u001b[0;36m<module>\u001b[0;34m()\u001b[0m\n\u001b[1;32m      1\u001b[0m \u001b[0;34m\u001b[0m\u001b[0m\n\u001b[0;32m----> 2\u001b[0;31m \u001b[0mprint\u001b[0m\u001b[0;34m(\u001b[0m\u001b[0maggTweetsDay\u001b[0m\u001b[0;34m.\u001b[0m\u001b[0mshape\u001b[0m\u001b[0;34m,\u001b[0m\u001b[0maggFundDfDay\u001b[0m\u001b[0;34m.\u001b[0m\u001b[0mshape\u001b[0m\u001b[0;34m)\u001b[0m\u001b[0;34m\u001b[0m\u001b[0;34m\u001b[0m\u001b[0m\n\u001b[0m\u001b[1;32m      3\u001b[0m \u001b[0;34m\u001b[0m\u001b[0m\n\u001b[1;32m      4\u001b[0m \u001b[0maggTweetsDay\u001b[0m \u001b[0;34m=\u001b[0m \u001b[0maggTweetsDay\u001b[0m\u001b[0;34m.\u001b[0m\u001b[0miloc\u001b[0m\u001b[0;34m[\u001b[0m\u001b[0;36m1\u001b[0m\u001b[0;34m:\u001b[0m\u001b[0;36m1826\u001b[0m\u001b[0;34m,\u001b[0m\u001b[0;34m:\u001b[0m\u001b[0;34m]\u001b[0m\u001b[0;34m\u001b[0m\u001b[0;34m\u001b[0m\u001b[0m\n\u001b[1;32m      5\u001b[0m \u001b[0;34m\u001b[0m\u001b[0m\n",
            "\u001b[0;31mNameError\u001b[0m: name 'aggFundDfDay' is not defined"
          ]
        }
      ]
    },
    {
      "cell_type": "code",
      "metadata": {
        "id": "jkY7qXr7R6iO",
        "colab_type": "code",
        "colab": {}
      },
      "source": [
        "aggTweetsDay.timeStamp = pd.to_datetime(aggTweetsDay.timeStamp) \n",
        "aggTweetsDay.set_index(aggTweetsDay[\"timeStamp\"],inplace=True)"
      ],
      "execution_count": 0,
      "outputs": []
    },
    {
      "cell_type": "markdown",
      "metadata": {
        "id": "MVsnNIpES_3N",
        "colab_type": "text"
      },
      "source": [
        "## 3.0 Joining Alternative Data and Fundamental Data\n",
        "\n",
        "The Alternative data corresponds to the tweets that were webscraped, analyzed, and aggregated by date (section 2). The fundamental data was downloaded separately and loaded in section 1.3.3."
      ]
    },
    {
      "cell_type": "markdown",
      "metadata": {
        "id": "ipKw77OsMQe9",
        "colab_type": "text"
      },
      "source": [
        "### 3.1 Explore Fundamental Data DF\n"
      ]
    },
    {
      "cell_type": "code",
      "metadata": {
        "id": "3ch-z8gZMPDj",
        "colab_type": "code",
        "outputId": "bb8fba5d-e0a7-423a-c1f7-71d3a69db007",
        "colab": {
          "base_uri": "https://localhost:8080/",
          "height": 275
        }
      },
      "source": [
        "fundData.head()"
      ],
      "execution_count": 0,
      "outputs": [
        {
          "output_type": "execute_result",
          "data": {
            "text/html": [
              "<div>\n",
              "<style scoped>\n",
              "    .dataframe tbody tr th:only-of-type {\n",
              "        vertical-align: middle;\n",
              "    }\n",
              "\n",
              "    .dataframe tbody tr th {\n",
              "        vertical-align: top;\n",
              "    }\n",
              "\n",
              "    .dataframe thead th {\n",
              "        text-align: right;\n",
              "    }\n",
              "</style>\n",
              "<table border=\"1\" class=\"dataframe\">\n",
              "  <thead>\n",
              "    <tr style=\"text-align: right;\">\n",
              "      <th></th>\n",
              "      <th>timeStamp</th>\n",
              "      <th>Open</th>\n",
              "      <th>High</th>\n",
              "      <th>Low</th>\n",
              "      <th>Close</th>\n",
              "      <th>Adj Close</th>\n",
              "      <th>Volume</th>\n",
              "      <th>MA50</th>\n",
              "      <th>MA200</th>\n",
              "      <th>Adj Close t</th>\n",
              "      <th>Adj Close t+1</th>\n",
              "      <th>Return</th>\n",
              "      <th>Diluted EPS</th>\n",
              "      <th>EBIT Margin</th>\n",
              "      <th>EBITDA Margin</th>\n",
              "      <th>Revenue % Growth</th>\n",
              "      <th>EBITDA % Growth</th>\n",
              "      <th>EBIT % Growth</th>\n",
              "      <th>NetIncome % Growth</th>\n",
              "      <th>Net Debt to Equity</th>\n",
              "    </tr>\n",
              "  </thead>\n",
              "  <tbody>\n",
              "    <tr>\n",
              "      <th>0</th>\n",
              "      <td>2014-01-02</td>\n",
              "      <td>55.950001</td>\n",
              "      <td>56.000000</td>\n",
              "      <td>55.389999</td>\n",
              "      <td>55.830002</td>\n",
              "      <td>55.830002</td>\n",
              "      <td>1122500</td>\n",
              "      <td>NaN</td>\n",
              "      <td>NaN</td>\n",
              "      <td>55.830002</td>\n",
              "      <td>55.779999</td>\n",
              "      <td>-0.000896</td>\n",
              "      <td>0.22</td>\n",
              "      <td>0.1451</td>\n",
              "      <td>0.1956</td>\n",
              "      <td>0.1713</td>\n",
              "      <td>0.1072</td>\n",
              "      <td>0.0437</td>\n",
              "      <td>0.2361</td>\n",
              "      <td>-0.5785</td>\n",
              "    </tr>\n",
              "    <tr>\n",
              "      <th>1</th>\n",
              "      <td>2014-01-03</td>\n",
              "      <td>55.900002</td>\n",
              "      <td>56.240002</td>\n",
              "      <td>55.450001</td>\n",
              "      <td>55.779999</td>\n",
              "      <td>55.779999</td>\n",
              "      <td>1103500</td>\n",
              "      <td>NaN</td>\n",
              "      <td>NaN</td>\n",
              "      <td>55.779999</td>\n",
              "      <td>56.340000</td>\n",
              "      <td>0.010039</td>\n",
              "      <td>0.22</td>\n",
              "      <td>0.1451</td>\n",
              "      <td>0.1956</td>\n",
              "      <td>0.1713</td>\n",
              "      <td>0.1072</td>\n",
              "      <td>0.0437</td>\n",
              "      <td>0.2361</td>\n",
              "      <td>-0.5785</td>\n",
              "    </tr>\n",
              "    <tr>\n",
              "      <th>2</th>\n",
              "      <td>2014-01-06</td>\n",
              "      <td>56.180000</td>\n",
              "      <td>56.709999</td>\n",
              "      <td>55.930000</td>\n",
              "      <td>56.340000</td>\n",
              "      <td>56.340000</td>\n",
              "      <td>2028100</td>\n",
              "      <td>NaN</td>\n",
              "      <td>NaN</td>\n",
              "      <td>56.340000</td>\n",
              "      <td>57.419998</td>\n",
              "      <td>0.019169</td>\n",
              "      <td>0.22</td>\n",
              "      <td>0.1451</td>\n",
              "      <td>0.1956</td>\n",
              "      <td>0.1713</td>\n",
              "      <td>0.1072</td>\n",
              "      <td>0.0437</td>\n",
              "      <td>0.2361</td>\n",
              "      <td>-0.5785</td>\n",
              "    </tr>\n",
              "    <tr>\n",
              "      <th>3</th>\n",
              "      <td>2014-01-07</td>\n",
              "      <td>56.610001</td>\n",
              "      <td>57.599998</td>\n",
              "      <td>56.400002</td>\n",
              "      <td>57.419998</td>\n",
              "      <td>57.419998</td>\n",
              "      <td>1834100</td>\n",
              "      <td>NaN</td>\n",
              "      <td>NaN</td>\n",
              "      <td>57.419998</td>\n",
              "      <td>56.990002</td>\n",
              "      <td>-0.007489</td>\n",
              "      <td>0.22</td>\n",
              "      <td>0.1451</td>\n",
              "      <td>0.1956</td>\n",
              "      <td>0.1713</td>\n",
              "      <td>0.1072</td>\n",
              "      <td>0.0437</td>\n",
              "      <td>0.2361</td>\n",
              "      <td>-0.5785</td>\n",
              "    </tr>\n",
              "    <tr>\n",
              "      <th>4</th>\n",
              "      <td>2014-01-08</td>\n",
              "      <td>57.230000</td>\n",
              "      <td>57.389999</td>\n",
              "      <td>56.750000</td>\n",
              "      <td>56.990002</td>\n",
              "      <td>56.990002</td>\n",
              "      <td>1686600</td>\n",
              "      <td>NaN</td>\n",
              "      <td>NaN</td>\n",
              "      <td>56.990002</td>\n",
              "      <td>57.290001</td>\n",
              "      <td>0.005264</td>\n",
              "      <td>0.22</td>\n",
              "      <td>0.1451</td>\n",
              "      <td>0.1956</td>\n",
              "      <td>0.1713</td>\n",
              "      <td>0.1072</td>\n",
              "      <td>0.0437</td>\n",
              "      <td>0.2361</td>\n",
              "      <td>-0.5785</td>\n",
              "    </tr>\n",
              "  </tbody>\n",
              "</table>\n",
              "</div>"
            ],
            "text/plain": [
              "   timeStamp       Open  ...  NetIncome % Growth  Net Debt to Equity\n",
              "0 2014-01-02  55.950001  ...              0.2361             -0.5785\n",
              "1 2014-01-03  55.900002  ...              0.2361             -0.5785\n",
              "2 2014-01-06  56.180000  ...              0.2361             -0.5785\n",
              "3 2014-01-07  56.610001  ...              0.2361             -0.5785\n",
              "4 2014-01-08  57.230000  ...              0.2361             -0.5785\n",
              "\n",
              "[5 rows x 20 columns]"
            ]
          },
          "metadata": {
            "tags": []
          },
          "execution_count": 21
        }
      ]
    },
    {
      "cell_type": "markdown",
      "metadata": {
        "id": "udYamDxzNG7p",
        "colab_type": "text"
      },
      "source": [
        "### 3.2 Aggregate by Day and create dateTime Index \n",
        "\n",
        "This is done to ensure that the data is properly aggregated and the DF has the propper index. "
      ]
    },
    {
      "cell_type": "code",
      "metadata": {
        "id": "XlUheYegNBlQ",
        "colab_type": "code",
        "outputId": "7257469b-37aa-43d9-df2b-2d42e6f6cc83",
        "colab": {
          "base_uri": "https://localhost:8080/",
          "height": 232
        }
      },
      "source": [
        "print('Before Agg',aggFundDf.shape)\n",
        "aggFundDf = fundData\n",
        "aggFundDf.timeStamp = pd.to_datetime(aggFundDf.timeStamp) \n",
        "aggFundDf.set_index(aggFundDf[\"timeStamp\"],inplace=True)\n",
        "aggFundDfDay = aggFundDf.resample('D').sum()\n",
        "print('After Agg',aggFundDf.shape)"
      ],
      "execution_count": 0,
      "outputs": [
        {
          "output_type": "error",
          "ename": "NameError",
          "evalue": "ignored",
          "traceback": [
            "\u001b[0;31m---------------------------------------------------------------------------\u001b[0m",
            "\u001b[0;31mNameError\u001b[0m                                 Traceback (most recent call last)",
            "\u001b[0;32m<ipython-input-3-c0c42300e903>\u001b[0m in \u001b[0;36m<module>\u001b[0;34m()\u001b[0m\n\u001b[0;32m----> 1\u001b[0;31m \u001b[0mprint\u001b[0m\u001b[0;34m(\u001b[0m\u001b[0;34m'Before Agg'\u001b[0m\u001b[0;34m,\u001b[0m\u001b[0maggFundDf\u001b[0m\u001b[0;34m.\u001b[0m\u001b[0mshape\u001b[0m\u001b[0;34m)\u001b[0m\u001b[0;34m\u001b[0m\u001b[0;34m\u001b[0m\u001b[0m\n\u001b[0m\u001b[1;32m      2\u001b[0m \u001b[0maggFundDf\u001b[0m \u001b[0;34m=\u001b[0m \u001b[0mfundData\u001b[0m\u001b[0;34m\u001b[0m\u001b[0;34m\u001b[0m\u001b[0m\n\u001b[1;32m      3\u001b[0m \u001b[0maggFundDf\u001b[0m\u001b[0;34m.\u001b[0m\u001b[0mtimeStamp\u001b[0m \u001b[0;34m=\u001b[0m \u001b[0mpd\u001b[0m\u001b[0;34m.\u001b[0m\u001b[0mto_datetime\u001b[0m\u001b[0;34m(\u001b[0m\u001b[0maggFundDf\u001b[0m\u001b[0;34m.\u001b[0m\u001b[0mtimeStamp\u001b[0m\u001b[0;34m)\u001b[0m\u001b[0;34m\u001b[0m\u001b[0;34m\u001b[0m\u001b[0m\n\u001b[1;32m      4\u001b[0m \u001b[0maggFundDf\u001b[0m\u001b[0;34m.\u001b[0m\u001b[0mset_index\u001b[0m\u001b[0;34m(\u001b[0m\u001b[0maggFundDf\u001b[0m\u001b[0;34m[\u001b[0m\u001b[0;34m\"timeStamp\"\u001b[0m\u001b[0;34m]\u001b[0m\u001b[0;34m,\u001b[0m\u001b[0minplace\u001b[0m\u001b[0;34m=\u001b[0m\u001b[0;32mTrue\u001b[0m\u001b[0;34m)\u001b[0m\u001b[0;34m\u001b[0m\u001b[0;34m\u001b[0m\u001b[0m\n\u001b[1;32m      5\u001b[0m \u001b[0maggFundDfDay\u001b[0m \u001b[0;34m=\u001b[0m \u001b[0maggFundDf\u001b[0m\u001b[0;34m.\u001b[0m\u001b[0mresample\u001b[0m\u001b[0;34m(\u001b[0m\u001b[0;34m'D'\u001b[0m\u001b[0;34m)\u001b[0m\u001b[0;34m.\u001b[0m\u001b[0msum\u001b[0m\u001b[0;34m(\u001b[0m\u001b[0;34m)\u001b[0m\u001b[0;34m\u001b[0m\u001b[0;34m\u001b[0m\u001b[0m\n",
            "\u001b[0;31mNameError\u001b[0m: name 'aggFundDf' is not defined"
          ]
        }
      ]
    },
    {
      "cell_type": "markdown",
      "metadata": {
        "id": "IUe4KpDDQ3oE",
        "colab_type": "text"
      },
      "source": [
        "### 3.3  Inner Join tables"
      ]
    },
    {
      "cell_type": "code",
      "metadata": {
        "id": "t2a4sf71Q2wT",
        "colab_type": "code",
        "outputId": "67a17323-f6ce-4838-9394-129fd5a42258",
        "colab": {
          "base_uri": "https://localhost:8080/",
          "height": 232
        }
      },
      "source": [
        "finalDf = aggFundDfDay.join(aggTweetsDay,'timeStamp')\n",
        "finalDf.head()\n",
        "\n",
        "\n",
        "finalDfNames = [\n",
        "       'Diluted EPS from Continuing Operations', 'EBIT Margin',\n",
        "       'EBITDA Margin', 'Revenue % Growth', 'EBITDA % Growth', 'EBIT % Growth',\n",
        "       'Net Income from Continuing Operations Sequential % Growth',\n",
        "       'Net Debt to Equity', 'Favourites', 'retweets', 'Compound',\n",
        "       'Positive', 'Neutral', 'Negative','Return'\n",
        "]\n",
        "\n",
        "\n",
        "finalDf = finalDf[finalDfNames]\n",
        "\n",
        "finalDf.head()\n",
        "\n",
        "### Download FinalDf\n",
        "\n",
        "# from google.colab import files\n",
        "\n",
        "# finalDf.to_csv('mlFullDf.csv')\n",
        "# files.download('mlFullDf.csv')"
      ],
      "execution_count": 0,
      "outputs": [
        {
          "output_type": "error",
          "ename": "NameError",
          "evalue": "ignored",
          "traceback": [
            "\u001b[0;31m---------------------------------------------------------------------------\u001b[0m",
            "\u001b[0;31mNameError\u001b[0m                                 Traceback (most recent call last)",
            "\u001b[0;32m<ipython-input-4-9c13a1523ada>\u001b[0m in \u001b[0;36m<module>\u001b[0;34m()\u001b[0m\n\u001b[0;32m----> 1\u001b[0;31m \u001b[0mfinalDf\u001b[0m \u001b[0;34m=\u001b[0m \u001b[0maggFundDfDay\u001b[0m\u001b[0;34m.\u001b[0m\u001b[0mjoin\u001b[0m\u001b[0;34m(\u001b[0m\u001b[0maggTweetsDay\u001b[0m\u001b[0;34m,\u001b[0m\u001b[0;34m'timeStamp'\u001b[0m\u001b[0;34m)\u001b[0m\u001b[0;34m\u001b[0m\u001b[0;34m\u001b[0m\u001b[0m\n\u001b[0m\u001b[1;32m      2\u001b[0m \u001b[0mfinalDf\u001b[0m\u001b[0;34m.\u001b[0m\u001b[0mhead\u001b[0m\u001b[0;34m(\u001b[0m\u001b[0;34m)\u001b[0m\u001b[0;34m\u001b[0m\u001b[0;34m\u001b[0m\u001b[0m\n\u001b[1;32m      3\u001b[0m \u001b[0;34m\u001b[0m\u001b[0m\n\u001b[1;32m      4\u001b[0m \u001b[0;34m\u001b[0m\u001b[0m\n\u001b[1;32m      5\u001b[0m finalDfNames = [\n",
            "\u001b[0;31mNameError\u001b[0m: name 'aggFundDfDay' is not defined"
          ]
        }
      ]
    },
    {
      "cell_type": "markdown",
      "metadata": {
        "id": "z7O9JDMmV2q3",
        "colab_type": "text"
      },
      "source": [
        "## 4.0 Machine Learning "
      ]
    },
    {
      "cell_type": "markdown",
      "metadata": {
        "id": "LVD-sA4rV6eS",
        "colab_type": "text"
      },
      "source": [
        "### 4.1 Data Prep\n",
        "\n"
      ]
    },
    {
      "cell_type": "markdown",
      "metadata": {
        "id": "0QOAZ61s5L9r",
        "colab_type": "text"
      },
      "source": [
        "#### 4.1.1 Creating Features and Target\n",
        "\n",
        "The target corresponds to the next day returns (which were calculated separately in the loaded csv ). The features include fundamental and alternative Data"
      ]
    },
    {
      "cell_type": "code",
      "metadata": {
        "id": "WmtfGHc-V5pr",
        "colab_type": "code",
        "outputId": "3b408b1e-98d3-456d-9e0a-9f9ce4e162ce",
        "colab": {
          "base_uri": "https://localhost:8080/",
          "height": 323
        }
      },
      "source": [
        "mlDf = mlDf.dropna()\n",
        "\n",
        "# Net income % growth is shortened for Net Income from Continuing Operations Sequential % Growth\n",
        "\n",
        "feature_names = [\n",
        "       'Diluted EPS', 'EBIT Margin',\n",
        "       'EBITDA Margin', 'Revenue % Growth', 'EBITDA % Growth', 'EBIT % Growth',\n",
        "       'NetIncome % Growth',\n",
        "       'Net Debt to Equity', 'Favourites', 'retweets', 'Compound','timeStamp',\n",
        "       'Positive', 'Neutral', 'Negative'\n",
        "]\n",
        "\n",
        "# Setting the Time Stamp as the Index\n",
        "mlDf.timeStamp = pd.to_datetime(mlDf.timeStamp) \n",
        "mlDf.set_index(mlDf[\"timeStamp\"],inplace=True)\n",
        "\n",
        "# Changing Name of Column \n",
        "# mlDf = mlDf.rename(columns = {'Net Income from Continuing Operations Sequential % Growth':'NetIncome % Growth'})\n",
        "\n",
        "\n",
        "# Create features and targets\n",
        "# mlDf Loaded in First Section\n",
        "features = mlDf[feature_names]\n",
        "features = features.drop(columns=\"timeStamp\")\n",
        "targets = mlDf['Return']\n",
        "\n",
        "# Create DataFrame from target column and feature columns\n",
        "feature_and_target_cols = ['Return'] + feature_names\n",
        "feat_targ_df = mlDf[feature_and_target_cols]\n",
        "\n",
        "# Calculate correlation matrix\n",
        "corr = feat_targ_df.corr()\n",
        "print(corr)"
      ],
      "execution_count": 18,
      "outputs": [
        {
          "output_type": "stream",
          "text": [
            "                      Return  Diluted EPS  ...   Neutral  Negative\n",
            "Return              1.000000     0.043457  ...  0.004254  0.005220\n",
            "Diluted EPS         0.043457     1.000000  ...  0.314090  0.179761\n",
            "EBIT Margin         0.030326     0.886864  ...  0.144018  0.059455\n",
            "EBITDA Margin       0.029090     0.862329  ...  0.124235  0.046035\n",
            "Revenue % Growth    0.033500     0.925080  ...  0.195040  0.094093\n",
            "EBITDA % Growth     0.031476     0.787757  ...  0.318801  0.205550\n",
            "EBIT % Growth       0.029349     0.756347  ...  0.319788  0.205432\n",
            "NetIncome % Growth  0.009910     0.401226  ...  0.117560  0.068854\n",
            "Net Debt to Equity -0.033897    -0.863612  ... -0.203379 -0.106857\n",
            "Favourites          0.002452     0.240223  ...  0.838847  0.794346\n",
            "retweets            0.001478     0.177373  ...  0.721259  0.696416\n",
            "Compound            0.001805     0.390663  ...  0.961987  0.839535\n",
            "Positive            0.004805     0.352096  ...  0.981501  0.899260\n",
            "Neutral             0.004254     0.314090  ...  1.000000  0.938190\n",
            "Negative            0.005220     0.179761  ...  0.938190  1.000000\n",
            "\n",
            "[15 rows x 15 columns]\n"
          ],
          "name": "stdout"
        }
      ]
    },
    {
      "cell_type": "markdown",
      "metadata": {
        "id": "afIAc8GvtWL9",
        "colab_type": "text"
      },
      "source": [
        "#### 4.1.2 Train Test Split\n",
        "\n",
        "The split is set to have as training set the \"oldest\" data and the test set the \"newest\" data. This is due to the fact that the goal is to create a model that predicts future returns. Thus, newest data.\n",
        "\n",
        "Nonetheless, it is necesary to implement stratified cross validation due to Data Leakage (Prado, 2018)\n",
        "\n",
        "\n",
        "\n",
        "---\n",
        "\n",
        "\n",
        "\n",
        "One reason k-fold CV fails in finance is because observations\n",
        "cannot be assumed to be drawn from an IID process. A second reason for CV’s failure\n",
        "is that the testing set is used multiple times in the process of developing a model,\n",
        "leading to multiple testing and selection bias (...) Leakage takes place when the training set contains information that also appears\n",
        "in the testing set (Prado, 2018)."
      ]
    },
    {
      "cell_type": "code",
      "metadata": {
        "id": "7XPvHGdykzGS",
        "colab_type": "code",
        "outputId": "5884bdbc-0079-4869-949b-1e2a92ff9241",
        "colab": {
          "base_uri": "https://localhost:8080/",
          "height": 34
        }
      },
      "source": [
        "train_size = int(0.85 * features.shape[0])\n",
        "train_features = features[:train_size]\n",
        "train_targets = targets[:train_size]\n",
        "test_features = features[train_size:]\n",
        "test_targets = targets[train_size:]\n",
        "print(features.shape, train_features.shape, test_features.shape)\n",
        "\n",
        "# train_features = train_features.drop(columns='timeStamp')\n",
        "# test_features = test_features.drop(columns='timeStamp')\n",
        "\n",
        "# train_features = train_features.dropna()\n",
        "# test_features = test_features.dropna()"
      ],
      "execution_count": 19,
      "outputs": [
        {
          "output_type": "stream",
          "text": [
            "(1824, 14) (1550, 14) (274, 14)\n"
          ],
          "name": "stdout"
        }
      ]
    },
    {
      "cell_type": "markdown",
      "metadata": {
        "id": "YE8x-ldzY-QB",
        "colab_type": "text"
      },
      "source": [
        "#### 4.1.3 Correlation Matrix Heatmap"
      ]
    },
    {
      "cell_type": "code",
      "metadata": {
        "id": "IqLLJhLkbyhX",
        "colab_type": "code",
        "outputId": "b6f7819f-9664-4e31-b908-b5218aff8764",
        "colab": {
          "base_uri": "https://localhost:8080/",
          "height": 631
        }
      },
      "source": [
        "import seaborn as sns \n",
        "\n",
        "sns.set(rc={'figure.figsize':(11.7,8.27)})\n",
        "\n",
        "sns.heatmap(feat_targ_df.corr(), cmap=\"YlGnBu\")"
      ],
      "execution_count": 20,
      "outputs": [
        {
          "output_type": "execute_result",
          "data": {
            "text/plain": [
              "<matplotlib.axes._subplots.AxesSubplot at 0x7fe8ca8bdcc0>"
            ]
          },
          "metadata": {
            "tags": []
          },
          "execution_count": 20
        },
        {
          "output_type": "display_data",
          "data": {
            "image/png": "[encoded data removed]",
            "text/plain": [
              "<Figure size 842.4x595.44 with 2 Axes>"
            ]
          },
          "metadata": {
            "tags": []
          }
        }
      ]
    },
    {
      "cell_type": "markdown",
      "metadata": {
        "id": "IxNVUYZgs3fU",
        "colab_type": "text"
      },
      "source": [
        "### 4.2 First Generic Model - Decision Tree \n",
        "\n",
        "Hugely Overfit! We use the output of this model as the signal in the `Backtesting.Py` script. The reasoning behind this decision is replicating a dangerous situation in algorithmic trading: Implementing an overfit model without being conscious of the plausible dangers.  "
      ]
    },
    {
      "cell_type": "code",
      "metadata": {
        "id": "tetm2k6LzsOe",
        "colab_type": "code",
        "outputId": "765d9e3e-7f5f-477f-e67a-303ea3eef02b",
        "colab": {
          "base_uri": "https://localhost:8080/",
          "height": 51
        }
      },
      "source": [
        "from sklearn.tree import DecisionTreeRegressor\n",
        "\n",
        "# Create a decision tree regression model with default arguments\n",
        "decision_tree = DecisionTreeRegressor(random_state=0)\n",
        "\n",
        "decFit = decision_tree.fit(train_features,train_targets)\n",
        "\n",
        "print(decision_tree.score(train_features, train_targets))\n",
        "print(decision_tree.score(test_features,test_targets))"
      ],
      "execution_count": 21,
      "outputs": [
        {
          "output_type": "stream",
          "text": [
            "0.9999786765405798\n",
            "-0.7474783390027289\n"
          ],
          "name": "stdout"
        }
      ]
    },
    {
      "cell_type": "markdown",
      "metadata": {
        "id": "nQug0XPA4eNl",
        "colab_type": "text"
      },
      "source": [
        "#### 4.2.1 Decision Tree with Cross Validation \n",
        "\n",
        "We can observe the R Squared scores in each train and test split, in all of the cases the data is overvitted"
      ]
    },
    {
      "cell_type": "code",
      "metadata": {
        "id": "kSh9vonE0SXL",
        "colab_type": "code",
        "outputId": "ed4f23fd-dcda-484e-97f0-0d5b9672d3e6",
        "colab": {
          "base_uri": "https://localhost:8080/",
          "height": 85
        }
      },
      "source": [
        "from sklearn.model_selection import cross_validate, cross_val_score\n",
        "\n",
        "decision_tree = DecisionTreeRegressor(random_state=0)\n",
        "\n",
        "scores = cross_validate(decision_tree,features,targets,return_train_score=True, cv=5)\n",
        "scores  "
      ],
      "execution_count": 22,
      "outputs": [
        {
          "output_type": "execute_result",
          "data": {
            "text/plain": [
              "{'fit_time': array([0.02315593, 0.01267219, 0.01313186, 0.01441097, 0.0187676 ]),\n",
              " 'score_time': array([0.00146484, 0.00128222, 0.00115538, 0.00118637, 0.00122857]),\n",
              " 'test_score': array([-2.27199045, -3.25758357, -0.54325437, -1.72530914, -0.21013178]),\n",
              " 'train_score': array([0.999972  , 0.99997764, 0.99995611, 0.99998701, 0.99997562])}"
            ]
          },
          "metadata": {
            "tags": []
          },
          "execution_count": 22
        }
      ]
    },
    {
      "cell_type": "markdown",
      "metadata": {
        "id": "BN7grsOyZNn7",
        "colab_type": "text"
      },
      "source": [
        "#### 4.2.2 Visualizing the Decision Tree"
      ]
    },
    {
      "cell_type": "code",
      "metadata": {
        "id": "3wFx54Iv5V3r",
        "colab_type": "code",
        "colab": {}
      },
      "source": [
        "# # Visualizing the decision Tree\n",
        "\n",
        "# from sklearn.externals.six import StringIO  \n",
        "# from IPython.display import Image  \n",
        "# from sklearn.tree import export_graphviz\n",
        "# import pydotplus\n",
        "# dot_data = StringIO()\n",
        "# export_graphviz(decFit, out_file=dot_data,  \n",
        "#                 filled=True, rounded=True,\n",
        "#                 special_characters=True)\n",
        "\n",
        "# graph = pydotplus.graph_from_dot_data(dot_data.getvalue())  \n",
        "# Image(graph.create_png())"
      ],
      "execution_count": 0,
      "outputs": []
    },
    {
      "cell_type": "markdown",
      "metadata": {
        "id": "D_Vcr4Ap26i7",
        "colab_type": "text"
      },
      "source": [
        "#### 4.2.3 Decision Tree with GridSearch\n"
      ]
    },
    {
      "cell_type": "code",
      "metadata": {
        "id": "tg5FyCiM5pwE",
        "colab_type": "code",
        "outputId": "c9af8da2-a529-4ca1-a164-737cef4f1060",
        "colab": {
          "base_uri": "https://localhost:8080/",
          "height": 88
        }
      },
      "source": [
        "from sklearn.model_selection import GridSearchCV\n",
        "\n",
        "depths = np.arange(1, 21)\n",
        "num_leafs = [5, 10, 20, 50, 100]\n",
        "\n",
        "param_grid = [{'max_depth':depths,\n",
        "              'max_leaf_nodes':num_leafs}]\n",
        "\n",
        "decision_tree = DecisionTreeRegressor(random_state=0)\n",
        "\n",
        "gs = GridSearchCV(estimator=decision_tree, param_grid=param_grid, scoring='r2', cv=5)\n",
        "\n",
        "gs = gs.fit(features, targets)\n",
        "\n",
        "gs.best_params_"
      ],
      "execution_count": 24,
      "outputs": [
        {
          "output_type": "stream",
          "text": [
            "/usr/local/lib/python3.6/dist-packages/sklearn/model_selection/_search.py:813: DeprecationWarning: The default of the `iid` parameter will change from True to False in version 0.22 and will be removed in 0.24. This will change numeric results when test-set sizes are unequal.\n",
            "  DeprecationWarning)\n"
          ],
          "name": "stderr"
        },
        {
          "output_type": "execute_result",
          "data": {
            "text/plain": [
              "{'max_depth': 3, 'max_leaf_nodes': 5}"
            ]
          },
          "metadata": {
            "tags": []
          },
          "execution_count": 24
        }
      ]
    },
    {
      "cell_type": "code",
      "metadata": {
        "id": "Xg9QgJ5J159J",
        "colab_type": "code",
        "outputId": "445698f3-20f2-401a-8734-72a8eac3e685",
        "colab": {
          "base_uri": "https://localhost:8080/",
          "height": 51
        }
      },
      "source": [
        "decision_tree = DecisionTreeRegressor(random_state=0, max_depth=3, max_leaf_nodes=5)\n",
        "\n",
        "decFit = decision_tree.fit(train_features,train_targets)\n",
        "\n",
        "\n",
        "print('Training Set: ', decision_tree.score(train_features, train_targets))\n",
        "print('Test Set: ', decision_tree.score(test_features,test_targets))"
      ],
      "execution_count": 25,
      "outputs": [
        {
          "output_type": "stream",
          "text": [
            "Training Set:  0.0324927236377307\n",
            "Test Set:  -0.2626922883901126\n"
          ],
          "name": "stdout"
        }
      ]
    },
    {
      "cell_type": "code",
      "metadata": {
        "id": "BHPGHyFQ2OED",
        "colab_type": "code",
        "outputId": "04f61a13-0ad6-4e62-9eb6-919deb56d323",
        "colab": {
          "base_uri": "https://localhost:8080/",
          "height": 568
        }
      },
      "source": [
        "# Visualizing the decision Tree\n",
        "\n",
        "from sklearn.externals.six import StringIO  \n",
        "from IPython.display import Image  \n",
        "from sklearn.tree import export_graphviz\n",
        "import pydotplus\n",
        "dot_data = StringIO()\n",
        "export_graphviz(decFit, out_file=dot_data,  \n",
        "                filled=True, rounded=True,\n",
        "                special_characters=True, feature_names = features.columns)\n",
        "\n",
        "graph = pydotplus.graph_from_dot_data(dot_data.getvalue())  \n",
        "Image(graph.create_png())"
      ],
      "execution_count": 26,
      "outputs": [
        {
          "output_type": "stream",
          "text": [
            "/usr/local/lib/python3.6/dist-packages/sklearn/externals/six.py:31: DeprecationWarning: The module is deprecated in version 0.21 and will be removed in version 0.23 since we've dropped support for Python 2.7. Please rely on the official version of six (https://pypi.org/project/six/).\n",
            "  \"(https://pypi.org/project/six/).\", DeprecationWarning)\n"
          ],
          "name": "stderr"
        },
        {
          "output_type": "execute_result",
          "data": {
            "image/png": "[encoded data removed]",
            "text/plain": [
              "<IPython.core.display.Image object>"
            ]
          },
          "metadata": {
            "tags": []
          },
          "execution_count": 26
        }
      ]
    },
    {
      "cell_type": "markdown",
      "metadata": {
        "id": "5lccYCdq4fH9",
        "colab_type": "text"
      },
      "source": [
        "#### 4.2.4 Download Decision Tree Model for `Backtesting.py`"
      ]
    },
    {
      "cell_type": "code",
      "metadata": {
        "id": "16YX2gAnLjjN",
        "colab_type": "code",
        "colab": {}
      },
      "source": [
        "# toExp = pd.DataFrame({'timeStamp':mlDf.index, 'predictedReturns':decFit.predict(features)})"
      ],
      "execution_count": 0,
      "outputs": []
    },
    {
      "cell_type": "code",
      "metadata": {
        "id": "Q4hGnL-SLn6w",
        "colab_type": "code",
        "colab": {}
      },
      "source": [
        "# from google.colab import files\n",
        "\n",
        "# toExp.to_csv('ReturnPredictions-SimpleRegTreeNoParam_v0.1.csv')\n",
        "# files.download('ReturnPredictions-SimpleRegTreeNoParam_v0.1.csv')"
      ],
      "execution_count": 0,
      "outputs": []
    },
    {
      "cell_type": "code",
      "metadata": {
        "id": "TBDcpN42Ovv1",
        "colab_type": "code",
        "colab": {}
      },
      "source": [
        "# tests = pd.DataFrame({'Original Returns':test_targets, 'predictedReturns':decFit.predict(test_features)})\n",
        "# tests"
      ],
      "execution_count": 0,
      "outputs": []
    },
    {
      "cell_type": "markdown",
      "metadata": {
        "id": "wRqo-n633Ntg",
        "colab_type": "text"
      },
      "source": [
        "### 4.3 Random Forest"
      ]
    },
    {
      "cell_type": "markdown",
      "metadata": {
        "id": "daJnr3aAa2lO",
        "colab_type": "text"
      },
      "source": [
        "#### 4.3.1 Fit Random Forest with default params"
      ]
    },
    {
      "cell_type": "code",
      "metadata": {
        "id": "Ym8fC9wZ3ODw",
        "colab_type": "code",
        "outputId": "aa5b939d-44c7-4084-a3e8-b3aa975ef617",
        "colab": {
          "base_uri": "https://localhost:8080/",
          "height": 85
        }
      },
      "source": [
        "from sklearn.ensemble import RandomForestRegressor\n",
        "\n",
        "# Create the random forest model and fit to the training data\n",
        "rfr = RandomForestRegressor(random_state = 0)\n",
        "rfr.fit(train_features, train_targets)\n",
        "\n",
        "# Look at the R^2 scores on train and test\n",
        "print(rfr.score(train_features, train_targets))\n",
        "print(rfr.score(test_features,test_targets))\n",
        "\n"
      ],
      "execution_count": 27,
      "outputs": [
        {
          "output_type": "stream",
          "text": [
            "0.7875499157518719\n",
            "-0.2012072203642412\n"
          ],
          "name": "stdout"
        },
        {
          "output_type": "stream",
          "text": [
            "/usr/local/lib/python3.6/dist-packages/sklearn/ensemble/forest.py:245: FutureWarning: The default value of n_estimators will change from 10 in version 0.20 to 100 in 0.22.\n",
            "  \"10 in version 0.20 to 100 in 0.22.\", FutureWarning)\n"
          ],
          "name": "stderr"
        }
      ]
    },
    {
      "cell_type": "markdown",
      "metadata": {
        "id": "H7PcngP2a7V7",
        "colab_type": "text"
      },
      "source": [
        "#### 4.3.2 GridSearch Random Forest "
      ]
    },
    {
      "cell_type": "code",
      "metadata": {
        "id": "4llPMe6G9O17",
        "colab_type": "code",
        "outputId": "49e3de06-d36e-42c0-ff5c-8e29ac98bc69",
        "colab": {
          "base_uri": "https://localhost:8080/",
          "height": 102
        }
      },
      "source": [
        "from sklearn.model_selection import GridSearchCV\n",
        "\n",
        "depths = np.arange(1, 21)\n",
        "num_leafs = [5, 10, 20, 50, 100]\n",
        "\n",
        "\n",
        "param_grid = [{'max_depth':depths,\n",
        "              'max_leaf_nodes':num_leafs,\n",
        "              }]\n",
        "\n",
        "gs = GridSearchCV(estimator=rfr, param_grid=param_grid,return_train_score=True, scoring='r2',verbose=1, cv=5)\n",
        "\n",
        "gs = gs.fit(features, targets)\n",
        "\n",
        "\n",
        "\n",
        "\n",
        "print('Best Score:{} \\n Best Params: {}'.format(gs.best_score_, gs.best_params_))"
      ],
      "execution_count": 28,
      "outputs": [
        {
          "output_type": "stream",
          "text": [
            "Fitting 5 folds for each of 100 candidates, totalling 500 fits\n"
          ],
          "name": "stdout"
        },
        {
          "output_type": "stream",
          "text": [
            "[Parallel(n_jobs=1)]: Using backend SequentialBackend with 1 concurrent workers.\n"
          ],
          "name": "stderr"
        },
        {
          "output_type": "stream",
          "text": [
            "Best Score:-0.005815546185934584 \n",
            " Best Params: {'max_depth': 1, 'max_leaf_nodes': 5}\n"
          ],
          "name": "stdout"
        },
        {
          "output_type": "stream",
          "text": [
            "[Parallel(n_jobs=1)]: Done 500 out of 500 | elapsed:   19.0s finished\n"
          ],
          "name": "stderr"
        }
      ]
    },
    {
      "cell_type": "markdown",
      "metadata": {
        "id": "DhHrp2JL45OO",
        "colab_type": "text"
      },
      "source": [
        "#### 4.3.3 Cross-Validation for Random Forest"
      ]
    },
    {
      "cell_type": "code",
      "metadata": {
        "id": "X7xYRBpq_bA4",
        "colab_type": "code",
        "outputId": "9c4f6a0a-f284-41c8-90dd-69f975168e7c",
        "colab": {
          "base_uri": "https://localhost:8080/",
          "height": 85
        }
      },
      "source": [
        "from sklearn.model_selection import cross_validate, cross_val_score\n",
        "\n",
        "\n",
        "cross_validate(rfr,features,targets,return_train_score=True, cv=5)\n",
        "  "
      ],
      "execution_count": 29,
      "outputs": [
        {
          "output_type": "execute_result",
          "data": {
            "text/plain": [
              "{'fit_time': array([0.07982111, 0.08213043, 0.07405448, 0.07921147, 0.07833457]),\n",
              " 'score_time': array([0.00216889, 0.00273895, 0.00208187, 0.0021162 , 0.00193477]),\n",
              " 'test_score': array([-0.24431601, -0.51402594, -0.11362423, -0.22067487, -0.13105994]),\n",
              " 'train_score': array([0.80560899, 0.80701658, 0.82439097, 0.8169063 , 0.8023067 ])}"
            ]
          },
          "metadata": {
            "tags": []
          },
          "execution_count": 29
        }
      ]
    },
    {
      "cell_type": "markdown",
      "metadata": {
        "id": "nIUa3dYM7Iv_",
        "colab_type": "text"
      },
      "source": [
        "#### 4.3.4 Fit Random Forest with gridsearched parameters "
      ]
    },
    {
      "cell_type": "code",
      "metadata": {
        "id": "SikRCsMy6szS",
        "colab_type": "code",
        "colab": {}
      },
      "source": [
        "rfr = RandomForestRegressor(max_depth=1, max_leaf_nodes=5 ,random_state = 0, n_estimators=1000)\n",
        "rfr = rfr.fit(train_features, train_targets)"
      ],
      "execution_count": 0,
      "outputs": []
    },
    {
      "cell_type": "code",
      "metadata": {
        "id": "dmOHG_f7P0o-",
        "colab_type": "code",
        "outputId": "bbbac696-554c-47e7-f86a-5e8a1a5e91b2",
        "colab": {
          "base_uri": "https://localhost:8080/",
          "height": 85
        }
      },
      "source": [
        "cross_validate(rfr,features,targets,return_train_score=True, cv=5)"
      ],
      "execution_count": 42,
      "outputs": [
        {
          "output_type": "execute_result",
          "data": {
            "text/plain": [
              "{'fit_time': array([1.10403848, 1.10741377, 1.08739066, 1.09377813, 1.10147119]),\n",
              " 'score_time': array([0.03889203, 0.03976917, 0.0457015 , 0.03957367, 0.03891301]),\n",
              " 'test_score': array([-0.00019332, -0.00126622, -0.00829948, -0.00871218, -0.00879906]),\n",
              " 'train_score': array([0.00893242, 0.00903727, 0.00979969, 0.00795266, 0.01005103])}"
            ]
          },
          "metadata": {
            "tags": []
          },
          "execution_count": 42
        }
      ]
    },
    {
      "cell_type": "code",
      "metadata": {
        "id": "kEs1fAkT02HW",
        "colab_type": "code",
        "colab": {
          "base_uri": "https://localhost:8080/",
          "height": 237
        },
        "outputId": "3554b8c4-a8fe-4801-a6e4-f40887041b21"
      },
      "source": [
        "# Visualizing first decision tree of forest\n",
        "\n",
        "\n",
        "from sklearn.externals.six import StringIO  \n",
        "from IPython.display import Image  \n",
        "from sklearn.tree import export_graphviz\n",
        "import pydotplus\n",
        "dot_data = StringIO()\n",
        "export_graphviz(rfr.estimators_[0], out_file=dot_data,  \n",
        "                filled=True, rounded=True,\n",
        "                special_characters=True, feature_names = features.columns)\n",
        "\n",
        "graph = pydotplus.graph_from_dot_data(dot_data.getvalue())  \n",
        "Image(graph.create_png())"
      ],
      "execution_count": 43,
      "outputs": [
        {
          "output_type": "execute_result",
          "data": {
            "image/png": "[encoded data removed]",
            "text/plain": [
              "<IPython.core.display.Image object>"
            ]
          },
          "metadata": {
            "tags": []
          },
          "execution_count": 43
        }
      ]
    },
    {
      "cell_type": "markdown",
      "metadata": {
        "id": "oN-8SsXv7eve",
        "colab_type": "text"
      },
      "source": [
        "#### 4.3.5 Feature Selection with Random Forest"
      ]
    },
    {
      "cell_type": "code",
      "metadata": {
        "id": "hsE4FBvV7K7R",
        "colab_type": "code",
        "outputId": "4e92c61d-1028-44a6-ee45-de5e815b1a5b",
        "colab": {
          "base_uri": "https://localhost:8080/",
          "height": 550
        }
      },
      "source": [
        "import matplotlib.pyplot as plt\n",
        "\n",
        "importances = rfr.feature_importances_\n",
        "indices = np.argsort(importances)\n",
        "\n",
        "plt.figure(1)\n",
        "plt.title('Feature Importances')\n",
        "plt.barh(range(len(indices)), importances[indices], color='b', align='center')\n",
        "plt.yticks(range(len(indices)), features)\n",
        "plt.xlabel('Relative Importance')\n",
        "\n",
        "\n",
        "  # If we want to print each feature importance\n",
        "# for feature in zip(feature_names, rfr.feature_importances_):\n",
        "#     print(feature)"
      ],
      "execution_count": 0,
      "outputs": [
        {
          "output_type": "execute_result",
          "data": {
            "text/plain": [
              "Text(0.5, 0, 'Relative Importance')"
            ]
          },
          "metadata": {
            "tags": []
          },
          "execution_count": 60
        },
        {
          "output_type": "display_data",
          "data": {
            "image/png": "[encoded data removed]",
            "text/plain": [
              "<Figure size 842.4x595.44 with 1 Axes>"
            ]
          },
          "metadata": {
            "tags": []
          }
        }
      ]
    },
    {
      "cell_type": "markdown",
      "metadata": {
        "id": "CthCI9Y13wZX",
        "colab_type": "text"
      },
      "source": [
        "### 4.4 Gradient Boosting Regressor"
      ]
    },
    {
      "cell_type": "code",
      "metadata": {
        "id": "53KJ7CuW3z90",
        "colab_type": "code",
        "outputId": "0d13efd0-a569-402c-fe18-6d07f9373f90",
        "colab": {
          "base_uri": "https://localhost:8080/",
          "height": 34
        }
      },
      "source": [
        "import numpy as np\n",
        "from sklearn.metrics import r2_score, explained_variance_score\n",
        "from sklearn.datasets import make_friedman1\n",
        "from sklearn.ensemble import GradientBoostingRegressor\n",
        "\n",
        "est = GradientBoostingRegressor(n_estimators=10000, learning_rate=0.1,\n",
        "    max_depth=1, random_state=0, loss='ls').fit(train_features, train_targets)\n",
        "# r2_score(test_targets, est.predict(test_features))    \n",
        "# explained_variance_score(test_targets, est.predict(test_features))\n",
        "explained_variance_score(train_targets, est.predict(train_features))"
      ],
      "execution_count": 0,
      "outputs": [
        {
          "output_type": "execute_result",
          "data": {
            "text/plain": [
              "0.2452221282521364"
            ]
          },
          "metadata": {
            "tags": []
          },
          "execution_count": 26
        }
      ]
    },
    {
      "cell_type": "markdown",
      "metadata": {
        "id": "EfZalAjT7k0P",
        "colab_type": "text"
      },
      "source": [
        "#### 4.4.1 Feature Selection Gradient Boosting"
      ]
    },
    {
      "cell_type": "code",
      "metadata": {
        "id": "JcYFgE3r5CG3",
        "colab_type": "code",
        "outputId": "6711e4e1-13ed-415e-d605-9a1124dcf0e2",
        "colab": {
          "base_uri": "https://localhost:8080/",
          "height": 533
        }
      },
      "source": [
        "# Plot feature importance\n",
        "feature_importance = est.feature_importances_\n",
        "# make importances relative to max importance\n",
        "feature_importance = 100.0 * (feature_importance / feature_importance.max())\n",
        "sorted_idx = np.argsort(feature_importance)\n",
        "pos = np.arange(sorted_idx.shape[0]) + .5\n",
        "plt.subplot(1, 2, 2)\n",
        "plt.barh(pos, feature_importance[sorted_idx], align='center')\n",
        "plt.yticks(pos, features.columns[sorted_idx])\n",
        "plt.xlabel('Relative Importance')\n",
        "plt.title('Variable Importance')\n",
        "plt.show()"
      ],
      "execution_count": 0,
      "outputs": [
        {
          "output_type": "display_data",
          "data": {
            "image/png": "[encoded data removed]",
            "text/plain": [
              "<Figure size 842.4x595.44 with 1 Axes>"
            ]
          },
          "metadata": {
            "tags": []
          }
        }
      ]
    },
    {
      "cell_type": "markdown",
      "metadata": {
        "id": "P6ksT01G3Aii",
        "colab_type": "text"
      },
      "source": [
        "### 4.5 Neural Nets"
      ]
    },
    {
      "cell_type": "markdown",
      "metadata": {
        "id": "sF1zjM_ZlnsA",
        "colab_type": "text"
      },
      "source": [
        "#### 4.5.1 Scale Variables "
      ]
    },
    {
      "cell_type": "code",
      "metadata": {
        "id": "d6wXmQYraTp2",
        "colab_type": "code",
        "colab": {}
      },
      "source": [
        "from sklearn.preprocessing import scale\n",
        "\n",
        "# Remove unimportant features (weekdays)\n",
        "train_features = train_features.iloc[:, :-4]\n",
        "test_features = test_features.iloc[:, :-4]\n",
        "\n",
        "# Standardize the train and test features\n",
        "scaled_train_features = scale(train_features)\n",
        "scaled_test_features = scale(test_features)\n"
      ],
      "execution_count": 0,
      "outputs": []
    },
    {
      "cell_type": "markdown",
      "metadata": {
        "id": "4ZS2Xto9721w",
        "colab_type": "text"
      },
      "source": [
        "#### 4.5.2 Neural net 1"
      ]
    },
    {
      "cell_type": "code",
      "metadata": {
        "id": "n3nIDBg6PAOt",
        "colab_type": "code",
        "outputId": "8620661e-d347-4caf-e76b-6297c90d3d39",
        "colab": {
          "base_uri": "https://localhost:8080/",
          "height": 3417
        }
      },
      "source": [
        "\n",
        "from keras.models import Sequential\n",
        "from keras.layers import Dense\n",
        "\n",
        "\n",
        "\n",
        "from numpy.random import seed\n",
        "seed(1)\n",
        "\n",
        "# Create the model\n",
        "model_1 = Sequential()\n",
        "model_1.add(Dense(100, input_dim=scaled_train_features.shape[1], activation='relu'))\n",
        "model_1.add(Dense(40, activation='relu'))\n",
        "model_1.add(Dense(20, activation='relu'))\n",
        "model_1.add(Dense(1, activation='linear'))\n",
        "\n",
        "# Fit the model\n",
        "model_1.compile(optimizer='adam', loss='mse')\n",
        "history = model_1.fit(scaled_train_features, train_targets, epochs=100)\n"
      ],
      "execution_count": 0,
      "outputs": [
        {
          "output_type": "stream",
          "text": [
            "Epoch 1/100\n",
            "1550/1550 [==============================] - 0s 291us/step - loss: 0.0030\n",
            "Epoch 2/100\n",
            "1550/1550 [==============================] - 0s 56us/step - loss: 3.4140e-04\n",
            "Epoch 3/100\n",
            "1550/1550 [==============================] - 0s 53us/step - loss: 2.7138e-04\n",
            "Epoch 4/100\n",
            "1550/1550 [==============================] - 0s 50us/step - loss: 2.5956e-04\n",
            "Epoch 5/100\n",
            "1550/1550 [==============================] - 0s 47us/step - loss: 2.9560e-04\n",
            "Epoch 6/100\n",
            "1550/1550 [==============================] - 0s 51us/step - loss: 2.3935e-04\n",
            "Epoch 7/100\n",
            "1550/1550 [==============================] - 0s 61us/step - loss: 2.6790e-04\n",
            "Epoch 8/100\n",
            "1550/1550 [==============================] - 0s 55us/step - loss: 2.1798e-04\n",
            "Epoch 9/100\n",
            "1550/1550 [==============================] - 0s 46us/step - loss: 2.9699e-04\n",
            "Epoch 10/100\n",
            "1550/1550 [==============================] - 0s 55us/step - loss: 3.2076e-04\n",
            "Epoch 11/100\n",
            "1550/1550 [==============================] - 0s 53us/step - loss: 2.4812e-04\n",
            "Epoch 12/100\n",
            "1550/1550 [==============================] - 0s 52us/step - loss: 2.0708e-04\n",
            "Epoch 13/100\n",
            "1550/1550 [==============================] - 0s 54us/step - loss: 2.0802e-04\n",
            "Epoch 14/100\n",
            "1550/1550 [==============================] - 0s 50us/step - loss: 2.0393e-04\n",
            "Epoch 15/100\n",
            "1550/1550 [==============================] - 0s 58us/step - loss: 2.0745e-04\n",
            "Epoch 16/100\n",
            "1550/1550 [==============================] - 0s 49us/step - loss: 1.8852e-04\n",
            "Epoch 17/100\n",
            "1550/1550 [==============================] - 0s 51us/step - loss: 2.3112e-04\n",
            "Epoch 18/100\n",
            "1550/1550 [==============================] - 0s 44us/step - loss: 2.0909e-04\n",
            "Epoch 19/100\n",
            "1550/1550 [==============================] - 0s 49us/step - loss: 2.3168e-04\n",
            "Epoch 20/100\n",
            "1550/1550 [==============================] - 0s 48us/step - loss: 2.1983e-04\n",
            "Epoch 21/100\n",
            "1550/1550 [==============================] - 0s 47us/step - loss: 1.9601e-04\n",
            "Epoch 22/100\n",
            "1550/1550 [==============================] - 0s 46us/step - loss: 1.9881e-04\n",
            "Epoch 23/100\n",
            "1550/1550 [==============================] - 0s 46us/step - loss: 2.0395e-04\n",
            "Epoch 24/100\n",
            "1550/1550 [==============================] - 0s 48us/step - loss: 2.0418e-04\n",
            "Epoch 25/100\n",
            "1550/1550 [==============================] - 0s 47us/step - loss: 2.0455e-04\n",
            "Epoch 26/100\n",
            "1550/1550 [==============================] - 0s 45us/step - loss: 2.0355e-04\n",
            "Epoch 27/100\n",
            "1550/1550 [==============================] - 0s 48us/step - loss: 2.0425e-04\n",
            "Epoch 28/100\n",
            "1550/1550 [==============================] - 0s 48us/step - loss: 2.0396e-04\n",
            "Epoch 29/100\n",
            "1550/1550 [==============================] - 0s 49us/step - loss: 2.0078e-04\n",
            "Epoch 30/100\n",
            "1550/1550 [==============================] - 0s 54us/step - loss: 1.9971e-04\n",
            "Epoch 31/100\n",
            "1550/1550 [==============================] - 0s 48us/step - loss: 1.9947e-04\n",
            "Epoch 32/100\n",
            "1550/1550 [==============================] - 0s 47us/step - loss: 1.9616e-04\n",
            "Epoch 33/100\n",
            "1550/1550 [==============================] - 0s 51us/step - loss: 1.9842e-04\n",
            "Epoch 34/100\n",
            "1550/1550 [==============================] - 0s 49us/step - loss: 2.0037e-04\n",
            "Epoch 35/100\n",
            "1550/1550 [==============================] - 0s 43us/step - loss: 2.1110e-04\n",
            "Epoch 36/100\n",
            "1550/1550 [==============================] - 0s 48us/step - loss: 2.1905e-04\n",
            "Epoch 37/100\n",
            "1550/1550 [==============================] - 0s 50us/step - loss: 2.4510e-04\n",
            "Epoch 38/100\n",
            "1550/1550 [==============================] - 0s 48us/step - loss: 1.9997e-04\n",
            "Epoch 39/100\n",
            "1550/1550 [==============================] - 0s 50us/step - loss: 1.8604e-04\n",
            "Epoch 40/100\n",
            "1550/1550 [==============================] - 0s 46us/step - loss: 2.1633e-04\n",
            "Epoch 41/100\n",
            "1550/1550 [==============================] - 0s 49us/step - loss: 1.8740e-04\n",
            "Epoch 42/100\n",
            "1550/1550 [==============================] - 0s 45us/step - loss: 2.2433e-04\n",
            "Epoch 43/100\n",
            "1550/1550 [==============================] - 0s 46us/step - loss: 1.8639e-04\n",
            "Epoch 44/100\n",
            "1550/1550 [==============================] - 0s 49us/step - loss: 1.8852e-04\n",
            "Epoch 45/100\n",
            "1550/1550 [==============================] - 0s 45us/step - loss: 1.9536e-04\n",
            "Epoch 46/100\n",
            "1550/1550 [==============================] - 0s 47us/step - loss: 2.3484e-04\n",
            "Epoch 47/100\n",
            "1550/1550 [==============================] - 0s 48us/step - loss: 1.8426e-04\n",
            "Epoch 48/100\n",
            "1550/1550 [==============================] - 0s 44us/step - loss: 1.8185e-04\n",
            "Epoch 49/100\n",
            "1550/1550 [==============================] - 0s 49us/step - loss: 1.8221e-04\n",
            "Epoch 50/100\n",
            "1550/1550 [==============================] - 0s 49us/step - loss: 1.8811e-04\n",
            "Epoch 51/100\n",
            "1550/1550 [==============================] - 0s 47us/step - loss: 2.0276e-04\n",
            "Epoch 52/100\n",
            "1550/1550 [==============================] - 0s 45us/step - loss: 1.8493e-04\n",
            "Epoch 53/100\n",
            "1550/1550 [==============================] - 0s 49us/step - loss: 1.7775e-04\n",
            "Epoch 54/100\n",
            "1550/1550 [==============================] - 0s 46us/step - loss: 1.8997e-04\n",
            "Epoch 55/100\n",
            "1550/1550 [==============================] - 0s 45us/step - loss: 1.8494e-04\n",
            "Epoch 56/100\n",
            "1550/1550 [==============================] - 0s 48us/step - loss: 1.7324e-04\n",
            "Epoch 57/100\n",
            "1550/1550 [==============================] - 0s 47us/step - loss: 1.7981e-04\n",
            "Epoch 58/100\n",
            "1550/1550 [==============================] - 0s 44us/step - loss: 1.7866e-04\n",
            "Epoch 59/100\n",
            "1550/1550 [==============================] - 0s 47us/step - loss: 1.8664e-04\n",
            "Epoch 60/100\n",
            "1550/1550 [==============================] - 0s 45us/step - loss: 1.8965e-04\n",
            "Epoch 61/100\n",
            "1550/1550 [==============================] - 0s 46us/step - loss: 1.8157e-04\n",
            "Epoch 62/100\n",
            "1550/1550 [==============================] - 0s 48us/step - loss: 1.9208e-04\n",
            "Epoch 63/100\n",
            "1550/1550 [==============================] - 0s 48us/step - loss: 1.7214e-04\n",
            "Epoch 64/100\n",
            "1550/1550 [==============================] - 0s 46us/step - loss: 1.8888e-04\n",
            "Epoch 65/100\n",
            "1550/1550 [==============================] - 0s 45us/step - loss: 1.9027e-04\n",
            "Epoch 66/100\n",
            "1550/1550 [==============================] - 0s 48us/step - loss: 1.7486e-04\n",
            "Epoch 67/100\n",
            "1550/1550 [==============================] - 0s 48us/step - loss: 1.7424e-04\n",
            "Epoch 68/100\n",
            "1550/1550 [==============================] - 0s 44us/step - loss: 1.7542e-04\n",
            "Epoch 69/100\n",
            "1550/1550 [==============================] - 0s 46us/step - loss: 1.8507e-04\n",
            "Epoch 70/100\n",
            "1550/1550 [==============================] - 0s 46us/step - loss: 1.8074e-04\n",
            "Epoch 71/100\n",
            "1550/1550 [==============================] - 0s 44us/step - loss: 1.6973e-04\n",
            "Epoch 72/100\n",
            "1550/1550 [==============================] - 0s 52us/step - loss: 1.8642e-04\n",
            "Epoch 73/100\n",
            "1550/1550 [==============================] - 0s 48us/step - loss: 1.7783e-04\n",
            "Epoch 74/100\n",
            "1550/1550 [==============================] - 0s 45us/step - loss: 1.7435e-04\n",
            "Epoch 75/100\n",
            "1550/1550 [==============================] - 0s 51us/step - loss: 1.7864e-04\n",
            "Epoch 76/100\n",
            "1550/1550 [==============================] - 0s 64us/step - loss: 1.7215e-04\n",
            "Epoch 77/100\n",
            "1550/1550 [==============================] - 0s 56us/step - loss: 1.7497e-04\n",
            "Epoch 78/100\n",
            "1550/1550 [==============================] - 0s 48us/step - loss: 1.7437e-04\n",
            "Epoch 79/100\n",
            "1550/1550 [==============================] - 0s 44us/step - loss: 1.7734e-04\n",
            "Epoch 80/100\n",
            "1550/1550 [==============================] - 0s 48us/step - loss: 1.7905e-04\n",
            "Epoch 81/100\n",
            "1550/1550 [==============================] - 0s 51us/step - loss: 1.7144e-04\n",
            "Epoch 82/100\n",
            "1550/1550 [==============================] - 0s 43us/step - loss: 1.7539e-04\n",
            "Epoch 83/100\n",
            "1550/1550 [==============================] - 0s 47us/step - loss: 1.7879e-04\n",
            "Epoch 84/100\n",
            "1550/1550 [==============================] - 0s 49us/step - loss: 1.7124e-04\n",
            "Epoch 85/100\n",
            "1550/1550 [==============================] - 0s 46us/step - loss: 1.7133e-04\n",
            "Epoch 86/100\n",
            "1550/1550 [==============================] - 0s 46us/step - loss: 1.6814e-04\n",
            "Epoch 87/100\n",
            "1550/1550 [==============================] - 0s 47us/step - loss: 1.7591e-04\n",
            "Epoch 88/100\n",
            "1550/1550 [==============================] - 0s 47us/step - loss: 1.7149e-04\n",
            "Epoch 89/100\n",
            "1550/1550 [==============================] - 0s 45us/step - loss: 1.6928e-04\n",
            "Epoch 90/100\n",
            "1550/1550 [==============================] - 0s 50us/step - loss: 1.7353e-04\n",
            "Epoch 91/100\n",
            "1550/1550 [==============================] - 0s 44us/step - loss: 1.7153e-04\n",
            "Epoch 92/100\n",
            "1550/1550 [==============================] - 0s 48us/step - loss: 1.6898e-04\n",
            "Epoch 93/100\n",
            "1550/1550 [==============================] - 0s 49us/step - loss: 1.7044e-04\n",
            "Epoch 94/100\n",
            "1550/1550 [==============================] - 0s 47us/step - loss: 1.7133e-04\n",
            "Epoch 95/100\n",
            "1550/1550 [==============================] - 0s 45us/step - loss: 1.7230e-04\n",
            "Epoch 96/100\n",
            "1550/1550 [==============================] - 0s 48us/step - loss: 1.6655e-04\n",
            "Epoch 97/100\n",
            "1550/1550 [==============================] - 0s 47us/step - loss: 1.6693e-04\n",
            "Epoch 98/100\n",
            "1550/1550 [==============================] - 0s 45us/step - loss: 1.7090e-04\n",
            "Epoch 99/100\n",
            "1550/1550 [==============================] - 0s 50us/step - loss: 1.6610e-04\n",
            "Epoch 100/100\n",
            "1550/1550 [==============================] - 0s 48us/step - loss: 1.6873e-04\n"
          ],
          "name": "stdout"
        }
      ]
    },
    {
      "cell_type": "markdown",
      "metadata": {
        "id": "AHnA_-0Vbk2g",
        "colab_type": "text"
      },
      "source": [
        "##### 4.5.2.1 Train and Test Predictions Comparison - Neural Net1 "
      ]
    },
    {
      "cell_type": "code",
      "metadata": {
        "id": "3R4Awt2RahGt",
        "colab_type": "code",
        "outputId": "02b3891c-99c7-407f-e5b4-b7dfc6fdb16e",
        "colab": {
          "base_uri": "https://localhost:8080/",
          "height": 540
        }
      },
      "source": [
        "import seaborn as sns \n",
        "sns.set()\n",
        "\n",
        "from sklearn.metrics import r2_score\n",
        "import matplotlib.pyplot as plt\n",
        "\n",
        "# Calculate R^2 score\n",
        "train_preds = model_1.predict(scaled_train_features)\n",
        "test_preds = model_1.predict(scaled_test_features)\n",
        "print('Training Score {}'.format(r2_score(train_targets, train_preds)))\n",
        "print('Test Score {}'.format(r2_score(test_targets, test_preds)))\n",
        "\n",
        "# # Plot predictions vs actual\n",
        "plt.scatter(train_preds, train_targets, label='train')\n",
        "plt.scatter(test_preds, test_targets, label='test')\n",
        "plt.legend()\n",
        "plt.show()"
      ],
      "execution_count": 0,
      "outputs": [
        {
          "output_type": "stream",
          "text": [
            "Training Score 0.09762889767758742\n",
            "Test Score -0.010446870213559833\n"
          ],
          "name": "stdout"
        },
        {
          "output_type": "display_data",
          "data": {
            "image/png": "[encoded data removed]",
            "text/plain": [
              "<Figure size 842.4x595.44 with 1 Axes>"
            ]
          },
          "metadata": {
            "tags": []
          }
        }
      ]
    },
    {
      "cell_type": "markdown",
      "metadata": {
        "id": "EjIP7xOwb9Tq",
        "colab_type": "text"
      },
      "source": [
        "##### 4.5.2.2 Plot Loss per Epoch "
      ]
    },
    {
      "cell_type": "code",
      "metadata": {
        "id": "IC-EJXRhvUW2",
        "colab_type": "code",
        "outputId": "7ff7fce4-fffd-416b-9779-a7cd093b8c72",
        "colab": {
          "base_uri": "https://localhost:8080/",
          "height": 516
        }
      },
      "source": [
        "import seaborn as sns \n",
        "sns.set()\n",
        "\n",
        "# Plot the losses from the fit\n",
        "plt.plot(history.history['loss'])\n",
        "\n",
        "# Use the last loss as the title\n",
        "plt.title('loss:' + str(round(history.history['loss'][-1], 6)))\n",
        "plt.show()"
      ],
      "execution_count": 0,
      "outputs": [
        {
          "output_type": "display_data",
          "data": {
            "image/png": "[encoded data removed]",
            "text/plain": [
              "<Figure size 842.4x595.44 with 1 Axes>"
            ]
          },
          "metadata": {
            "tags": []
          }
        }
      ]
    },
    {
      "cell_type": "markdown",
      "metadata": {
        "id": "0B_GYGQs9WXF",
        "colab_type": "text"
      },
      "source": [
        "#### 4.5.3 Neural Net 2 - Custom Loss Function "
      ]
    },
    {
      "cell_type": "code",
      "metadata": {
        "id": "hTIBpKVKyBi1",
        "colab_type": "code",
        "outputId": "ba57fdbe-8832-4f9e-a859-b60744fdd2d6",
        "colab": {
          "base_uri": "https://localhost:8080/",
          "height": 34
        }
      },
      "source": [
        "import keras.losses\n",
        "import tensorflow as tf\n",
        "\n",
        "# Create loss function\n",
        "def sign_penalty(y_true, y_pred):\n",
        "    penalty = 100.\n",
        "    loss = tf.where(tf.less(y_true * y_pred, 0), \\\n",
        "                     penalty * tf.square(y_true - y_pred), \\\n",
        "                     tf.square(y_true - y_pred))\n",
        "\n",
        "    return tf.reduce_mean(loss, axis=-1)\n",
        "\n",
        "keras.losses.sign_penalty = sign_penalty  # enable use of loss with keras\n",
        "print(keras.losses.sign_penalty)"
      ],
      "execution_count": 0,
      "outputs": [
        {
          "output_type": "stream",
          "text": [
            "<function sign_penalty at 0x7fa3d176c2f0>\n"
          ],
          "name": "stdout"
        }
      ]
    },
    {
      "cell_type": "markdown",
      "metadata": {
        "id": "IPU0GA9McG_U",
        "colab_type": "text"
      },
      "source": [
        "##### 4.5.3.1 Plot Loss per Epoch "
      ]
    },
    {
      "cell_type": "code",
      "metadata": {
        "id": "h_bxKWSWyCXs",
        "colab_type": "code",
        "outputId": "de2eaebb-1947-4789-b16c-38112b1c97d3",
        "colab": {
          "base_uri": "https://localhost:8080/",
          "height": 516
        }
      },
      "source": [
        "# Create the model\n",
        "model_2 = Sequential()\n",
        "model_2.add(Dense(100, input_dim=scaled_train_features.shape[1], activation='relu'))\n",
        "model_2.add(Dense(20, activation='relu'))\n",
        "model_2.add(Dense(1, activation='linear'))\n",
        "\n",
        "# Fit the model with our custom 'sign_penalty' loss function\n",
        "model_2.compile(optimizer='adam', loss=sign_penalty)\n",
        "history = model_2.fit(scaled_train_features, train_targets, epochs=5000, verbose=False)\n",
        "plt.plot(history.history['loss'])\n",
        "plt.title('loss:' + str(round(history.history['loss'][-1], 6)))\n",
        "plt.show()"
      ],
      "execution_count": 0,
      "outputs": [
        {
          "output_type": "display_data",
          "data": {
            "image/png": "[encoded data removed]",
            "text/plain": [
              "<Figure size 842.4x595.44 with 1 Axes>"
            ]
          },
          "metadata": {
            "tags": []
          }
        }
      ]
    },
    {
      "cell_type": "markdown",
      "metadata": {
        "id": "DbWQ0unBcYkb",
        "colab_type": "text"
      },
      "source": [
        "##### 4.5.3.2 Plot Model Predictions Train-Test Comparison"
      ]
    },
    {
      "cell_type": "code",
      "metadata": {
        "id": "-iSDouhDyGfN",
        "colab_type": "code",
        "outputId": "d56914e8-fd2e-426e-cdb8-9a12b035635e",
        "colab": {
          "base_uri": "https://localhost:8080/",
          "height": 540
        }
      },
      "source": [
        "# Evaluate R^2 scores\n",
        "train_preds = model_2.predict(scaled_train_features)\n",
        "test_preds = model_2.predict(scaled_test_features)\n",
        "print(r2_score(train_targets, train_preds))\n",
        "print(r2_score(test_targets, test_preds))\n",
        "\n",
        "# Scatter the predictions vs actual -- this one is interesting!\n",
        "plt.scatter(train_preds, train_targets, label='train')\n",
        "plt.scatter(test_preds, test_targets, label='test')  # plot test set\n",
        "plt.legend(); plt.show()"
      ],
      "execution_count": 0,
      "outputs": [
        {
          "output_type": "stream",
          "text": [
            "-0.002144052129296359\n",
            "-0.0010737119094283987\n"
          ],
          "name": "stdout"
        },
        {
          "output_type": "display_data",
          "data": {
            "image/png": "[encoded data removed]",
            "text/plain": [
              "<Figure size 842.4x595.44 with 1 Axes>"
            ]
          },
          "metadata": {
            "tags": []
          }
        }
      ]
    }
  ]
}
